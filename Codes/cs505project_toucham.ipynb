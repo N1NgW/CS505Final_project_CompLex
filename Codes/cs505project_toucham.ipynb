{
  "nbformat": 4,
  "nbformat_minor": 0,
  "metadata": {
    "colab": {
      "name": "cs505project.ipynb",
      "provenance": [],
      "collapsed_sections": [],
      "toc_visible": true
    },
    "kernelspec": {
      "name": "python3",
      "display_name": "Python 3"
    },
    "language_info": {
      "name": "python"
    },
    "accelerator": "GPU"
  },
  "cells": [
    {
      "cell_type": "markdown",
      "metadata": {
        "id": "VTl1VxFjxJLO"
      },
      "source": [
        "# 1. Setup"
      ]
    },
    {
      "cell_type": "markdown",
      "metadata": {
        "id": "ONDZXtUCx3XQ"
      },
      "source": [
        "## 1.1 Setup working environment"
      ]
    },
    {
      "cell_type": "code",
      "metadata": {
        "colab": {
          "base_uri": "https://localhost:8080/"
        },
        "id": "MjjaMtpb3Jpe",
        "outputId": "703e1fb6-ce1c-4817-a706-a9d95eb7e3fa"
      },
      "source": [
        "#to use elmo\n",
        "%tensorflow_version 1.x"
      ],
      "execution_count": 1,
      "outputs": [
        {
          "output_type": "stream",
          "text": [
            "TensorFlow 1.x selected.\n"
          ],
          "name": "stdout"
        }
      ]
    },
    {
      "cell_type": "code",
      "metadata": {
        "id": "4-WlkBflxJ5C",
        "colab": {
          "base_uri": "https://localhost:8080/"
        },
        "outputId": "5a22f362-c3ef-4a50-cde0-6ea3d2f33947"
      },
      "source": [
        "import tensorflow as tf\n",
        "import torch\n",
        "print(tf.__version__)"
      ],
      "execution_count": 2,
      "outputs": [
        {
          "output_type": "stream",
          "text": [
            "1.15.2\n"
          ],
          "name": "stdout"
        }
      ]
    },
    {
      "cell_type": "code",
      "metadata": {
        "colab": {
          "base_uri": "https://localhost:8080/"
        },
        "id": "r2vBA-axxMyI",
        "outputId": "1c0507e8-53a1-418a-a972-1ee5f88e184a"
      },
      "source": [
        "# Get the GPU device name.\n",
        "device_name = tf.test.gpu_device_name()\n",
        "\n",
        "# The device name should look like the following:\n",
        "if device_name == '/device:GPU:0':\n",
        "    print('Found GPU at: {}'.format(device_name))\n",
        "else:\n",
        "    raise SystemError('GPU device not found')"
      ],
      "execution_count": 3,
      "outputs": [
        {
          "output_type": "stream",
          "text": [
            "Found GPU at: /device:GPU:0\n"
          ],
          "name": "stdout"
        }
      ]
    },
    {
      "cell_type": "code",
      "metadata": {
        "colab": {
          "base_uri": "https://localhost:8080/"
        },
        "id": "zzvMEI9rxWaJ",
        "outputId": "c80bf94e-af28-47dc-8135-1adeea4596e6"
      },
      "source": [
        "# If there's a GPU available...\n",
        "if torch.cuda.is_available():    \n",
        "\n",
        "    # Tell PyTorch to use the GPU.    \n",
        "    device = torch.device(\"cuda\")\n",
        "\n",
        "    print('There are %d GPU(s) available.' % torch.cuda.device_count())\n",
        "\n",
        "    print('We will use the GPU:', torch.cuda.get_device_name(0))\n",
        "\n",
        "# If not...\n",
        "else:\n",
        "    print('No GPU available, using the CPU instead.')\n",
        "    device = torch.device(\"cpu\")"
      ],
      "execution_count": 4,
      "outputs": [
        {
          "output_type": "stream",
          "text": [
            "There are 1 GPU(s) available.\n",
            "We will use the GPU: Tesla T4\n"
          ],
          "name": "stdout"
        }
      ]
    },
    {
      "cell_type": "code",
      "metadata": {
        "colab": {
          "base_uri": "https://localhost:8080/"
        },
        "id": "BES2jN0axglP",
        "outputId": "5febb994-cb7e-4ee6-96fe-a04b3ea3073b"
      },
      "source": [
        "!pip install transformers"
      ],
      "execution_count": 5,
      "outputs": [
        {
          "output_type": "stream",
          "text": [
            "Collecting transformers\n",
            "\u001b[?25l  Downloading https://files.pythonhosted.org/packages/d8/b2/57495b5309f09fa501866e225c84532d1fd89536ea62406b2181933fb418/transformers-4.5.1-py3-none-any.whl (2.1MB)\n",
            "\u001b[K     |████████████████████████████████| 2.1MB 17.6MB/s \n",
            "\u001b[?25hRequirement already satisfied: tqdm>=4.27 in /usr/local/lib/python3.7/dist-packages (from transformers) (4.41.1)\n",
            "Requirement already satisfied: packaging in /usr/local/lib/python3.7/dist-packages (from transformers) (20.9)\n",
            "Requirement already satisfied: numpy>=1.17 in /usr/local/lib/python3.7/dist-packages (from transformers) (1.19.5)\n",
            "Collecting sacremoses\n",
            "\u001b[?25l  Downloading https://files.pythonhosted.org/packages/75/ee/67241dc87f266093c533a2d4d3d69438e57d7a90abb216fa076e7d475d4a/sacremoses-0.0.45-py3-none-any.whl (895kB)\n",
            "\u001b[K     |████████████████████████████████| 901kB 60.3MB/s \n",
            "\u001b[?25hRequirement already satisfied: regex!=2019.12.17 in /usr/local/lib/python3.7/dist-packages (from transformers) (2019.12.20)\n",
            "Requirement already satisfied: requests in /usr/local/lib/python3.7/dist-packages (from transformers) (2.23.0)\n",
            "Collecting tokenizers<0.11,>=0.10.1\n",
            "\u001b[?25l  Downloading https://files.pythonhosted.org/packages/ae/04/5b870f26a858552025a62f1649c20d29d2672c02ff3c3fb4c688ca46467a/tokenizers-0.10.2-cp37-cp37m-manylinux2010_x86_64.whl (3.3MB)\n",
            "\u001b[K     |████████████████████████████████| 3.3MB 54.7MB/s \n",
            "\u001b[?25hRequirement already satisfied: filelock in /usr/local/lib/python3.7/dist-packages (from transformers) (3.0.12)\n",
            "Requirement already satisfied: importlib-metadata; python_version < \"3.8\" in /usr/local/lib/python3.7/dist-packages (from transformers) (3.10.1)\n",
            "Requirement already satisfied: pyparsing>=2.0.2 in /usr/local/lib/python3.7/dist-packages (from packaging->transformers) (2.4.7)\n",
            "Requirement already satisfied: click in /usr/local/lib/python3.7/dist-packages (from sacremoses->transformers) (7.1.2)\n",
            "Requirement already satisfied: six in /usr/local/lib/python3.7/dist-packages (from sacremoses->transformers) (1.15.0)\n",
            "Requirement already satisfied: joblib in /usr/local/lib/python3.7/dist-packages (from sacremoses->transformers) (1.0.1)\n",
            "Requirement already satisfied: urllib3!=1.25.0,!=1.25.1,<1.26,>=1.21.1 in /usr/local/lib/python3.7/dist-packages (from requests->transformers) (1.24.3)\n",
            "Requirement already satisfied: chardet<4,>=3.0.2 in /usr/local/lib/python3.7/dist-packages (from requests->transformers) (3.0.4)\n",
            "Requirement already satisfied: certifi>=2017.4.17 in /usr/local/lib/python3.7/dist-packages (from requests->transformers) (2020.12.5)\n",
            "Requirement already satisfied: idna<3,>=2.5 in /usr/local/lib/python3.7/dist-packages (from requests->transformers) (2.10)\n",
            "Requirement already satisfied: zipp>=0.5 in /usr/local/lib/python3.7/dist-packages (from importlib-metadata; python_version < \"3.8\"->transformers) (3.4.1)\n",
            "Requirement already satisfied: typing-extensions>=3.6.4; python_version < \"3.8\" in /usr/local/lib/python3.7/dist-packages (from importlib-metadata; python_version < \"3.8\"->transformers) (3.7.4.3)\n",
            "Installing collected packages: sacremoses, tokenizers, transformers\n",
            "Successfully installed sacremoses-0.0.45 tokenizers-0.10.2 transformers-4.5.1\n"
          ],
          "name": "stdout"
        }
      ]
    },
    {
      "cell_type": "markdown",
      "metadata": {
        "id": "iWPgghI4y0vE"
      },
      "source": [
        "## 1.2 Clean raw data"
      ]
    },
    {
      "cell_type": "code",
      "metadata": {
        "id": "OSyMDJOry_2B"
      },
      "source": [
        "import pandas as pd"
      ],
      "execution_count": 6,
      "outputs": []
    },
    {
      "cell_type": "code",
      "metadata": {
        "id": "airb20KGxsY4",
        "colab": {
          "base_uri": "https://localhost:8080/"
        },
        "outputId": "9af24831-f8ad-4931-bd56-62969b7d9343"
      },
      "source": [
        "from google.colab import drive\n",
        "drive.mount('/content/gdrive')"
      ],
      "execution_count": 7,
      "outputs": [
        {
          "output_type": "stream",
          "text": [
            "Mounted at /content/gdrive\n"
          ],
          "name": "stdout"
        }
      ]
    },
    {
      "cell_type": "code",
      "metadata": {
        "id": "ZJWsPTwmxs1E"
      },
      "source": [
        "TRAIN_RAW = \"/content/gdrive/My Drive/Colab Notebooks/CS505FinalProject/train/lcp_single_train.tsv\"\n",
        "TEST_RAW = \"/content/gdrive/My Drive/Colab Notebooks/CS505FinalProject/test-labels/lcp_single_test.tsv\"\n",
        "TRAIN = \"/content/gdrive/My Drive/Colab Notebooks/CS505FinalProject/train/lcp_single_train_cleaned.tsv\"\n",
        "TEST = \"/content/gdrive/My Drive/Colab Notebooks/CS505FinalProject/test-labels/lcp_single_test_cleaned.tsv\""
      ],
      "execution_count": 8,
      "outputs": []
    },
    {
      "cell_type": "code",
      "metadata": {
        "id": "Dz9d_Ebpy6Pg"
      },
      "source": [
        "# read the datasets\n",
        "# train\n",
        "with open(TRAIN_RAW, 'r') as f:\n",
        "  data = f.read()\n",
        "\n",
        "# need to remove \" from the string, otherwise parsing will have problems because some quotas are not closed \n",
        "data = data.replace('\"', '')\n",
        "\n",
        "with open(TRAIN, 'w') as f:\n",
        "  f.write(data)\n",
        "\n",
        "df = pd.read_csv(TRAIN, sep='\\t')\n",
        "\n",
        "# test\n",
        "with open(TEST_RAW, 'r') as f:\n",
        "  data = f.read()\n",
        "\n",
        "data = data.replace('\"', '')\n",
        "\n",
        "with open(TEST, 'w') as f:\n",
        "  f.write(data)\n",
        "\n",
        "test = pd.read_csv(TEST, sep='\\t')"
      ],
      "execution_count": 9,
      "outputs": []
    },
    {
      "cell_type": "code",
      "metadata": {
        "colab": {
          "base_uri": "https://localhost:8080/",
          "height": 306
        },
        "id": "bpYz878ry8fw",
        "outputId": "7cf3d816-5aeb-47e9-b51e-f7c0d77df5e7"
      },
      "source": [
        "# take a look\n",
        "pd.set_option('display.max_colwidth', None) # show the whole sentence\n",
        "df.head()"
      ],
      "execution_count": 10,
      "outputs": [
        {
          "output_type": "execute_result",
          "data": {
            "text/html": [
              "<div>\n",
              "<style scoped>\n",
              "    .dataframe tbody tr th:only-of-type {\n",
              "        vertical-align: middle;\n",
              "    }\n",
              "\n",
              "    .dataframe tbody tr th {\n",
              "        vertical-align: top;\n",
              "    }\n",
              "\n",
              "    .dataframe thead th {\n",
              "        text-align: right;\n",
              "    }\n",
              "</style>\n",
              "<table border=\"1\" class=\"dataframe\">\n",
              "  <thead>\n",
              "    <tr style=\"text-align: right;\">\n",
              "      <th></th>\n",
              "      <th>id</th>\n",
              "      <th>corpus</th>\n",
              "      <th>sentence</th>\n",
              "      <th>token</th>\n",
              "      <th>complexity</th>\n",
              "    </tr>\n",
              "  </thead>\n",
              "  <tbody>\n",
              "    <tr>\n",
              "      <th>0</th>\n",
              "      <td>3ZLW647WALVGE8EBR50EGUBPU4P32A</td>\n",
              "      <td>bible</td>\n",
              "      <td>Behold, there came up out of the river seven cattle, sleek and fat, and they fed in the marsh grass.</td>\n",
              "      <td>river</td>\n",
              "      <td>0.000000</td>\n",
              "    </tr>\n",
              "    <tr>\n",
              "      <th>1</th>\n",
              "      <td>34R0BODSP1ZBN3DVY8J8XSIY551E5C</td>\n",
              "      <td>bible</td>\n",
              "      <td>I am a fellow bondservant with you and with your brothers, the prophets, and with those who keep the words of this book.</td>\n",
              "      <td>brothers</td>\n",
              "      <td>0.000000</td>\n",
              "    </tr>\n",
              "    <tr>\n",
              "      <th>2</th>\n",
              "      <td>3S1WOPCJFGTJU2SGNAN2Y213N6WJE3</td>\n",
              "      <td>bible</td>\n",
              "      <td>The man, the lord of the land, said to us, 'By this I will know that you are honest men: leave one of your brothers with me, and take grain for the famine of your houses, and go your way.</td>\n",
              "      <td>brothers</td>\n",
              "      <td>0.050000</td>\n",
              "    </tr>\n",
              "    <tr>\n",
              "      <th>3</th>\n",
              "      <td>3BFNCI9LYKQN09BHXHH9CLSX5KP738</td>\n",
              "      <td>bible</td>\n",
              "      <td>Shimei had sixteen sons and six daughters; but his brothers didn't have many children, neither did all their family multiply like the children of Judah.</td>\n",
              "      <td>brothers</td>\n",
              "      <td>0.150000</td>\n",
              "    </tr>\n",
              "    <tr>\n",
              "      <th>4</th>\n",
              "      <td>3G5RUKN2EC3YIWSKUXZ8ZVH95R49N2</td>\n",
              "      <td>bible</td>\n",
              "      <td>He has put my brothers far from me.</td>\n",
              "      <td>brothers</td>\n",
              "      <td>0.263889</td>\n",
              "    </tr>\n",
              "  </tbody>\n",
              "</table>\n",
              "</div>"
            ],
            "text/plain": [
              "                               id corpus  ...     token complexity\n",
              "0  3ZLW647WALVGE8EBR50EGUBPU4P32A  bible  ...     river   0.000000\n",
              "1  34R0BODSP1ZBN3DVY8J8XSIY551E5C  bible  ...  brothers   0.000000\n",
              "2  3S1WOPCJFGTJU2SGNAN2Y213N6WJE3  bible  ...  brothers   0.050000\n",
              "3  3BFNCI9LYKQN09BHXHH9CLSX5KP738  bible  ...  brothers   0.150000\n",
              "4  3G5RUKN2EC3YIWSKUXZ8ZVH95R49N2  bible  ...  brothers   0.263889\n",
              "\n",
              "[5 rows x 5 columns]"
            ]
          },
          "metadata": {
            "tags": []
          },
          "execution_count": 10
        }
      ]
    },
    {
      "cell_type": "code",
      "metadata": {
        "colab": {
          "base_uri": "https://localhost:8080/",
          "height": 272
        },
        "id": "aNk1dDtWzDb1",
        "outputId": "c0993fc3-8ca7-4c52-b235-d3c0d56b23b9"
      },
      "source": [
        "test.head()"
      ],
      "execution_count": 11,
      "outputs": [
        {
          "output_type": "execute_result",
          "data": {
            "text/html": [
              "<div>\n",
              "<style scoped>\n",
              "    .dataframe tbody tr th:only-of-type {\n",
              "        vertical-align: middle;\n",
              "    }\n",
              "\n",
              "    .dataframe tbody tr th {\n",
              "        vertical-align: top;\n",
              "    }\n",
              "\n",
              "    .dataframe thead th {\n",
              "        text-align: right;\n",
              "    }\n",
              "</style>\n",
              "<table border=\"1\" class=\"dataframe\">\n",
              "  <thead>\n",
              "    <tr style=\"text-align: right;\">\n",
              "      <th></th>\n",
              "      <th>id</th>\n",
              "      <th>corpus</th>\n",
              "      <th>sentence</th>\n",
              "      <th>token</th>\n",
              "      <th>complexity</th>\n",
              "    </tr>\n",
              "  </thead>\n",
              "  <tbody>\n",
              "    <tr>\n",
              "      <th>0</th>\n",
              "      <td>3K8CQCU3KE19US5SN890DFPK3SANWR</td>\n",
              "      <td>bible</td>\n",
              "      <td>But he, beckoning to them with his hand to be silent, declared to them how the Lord had brought him out of the prison.</td>\n",
              "      <td>hand</td>\n",
              "      <td>0.000000</td>\n",
              "    </tr>\n",
              "    <tr>\n",
              "      <th>1</th>\n",
              "      <td>3Q2T3FD0ON86LCI41NJYV3PN0BW3MV</td>\n",
              "      <td>bible</td>\n",
              "      <td>If I forget you, Jerusalem, let my right hand forget its skill.</td>\n",
              "      <td>hand</td>\n",
              "      <td>0.197368</td>\n",
              "    </tr>\n",
              "    <tr>\n",
              "      <th>2</th>\n",
              "      <td>3ULIZ0H1VA5C32JJMKOTQ8Z4GUS51B</td>\n",
              "      <td>bible</td>\n",
              "      <td>the ten sons of Haman the son of Hammedatha, the Jew's enemy, but they didn't lay their hand on the plunder.</td>\n",
              "      <td>hand</td>\n",
              "      <td>0.200000</td>\n",
              "    </tr>\n",
              "    <tr>\n",
              "      <th>3</th>\n",
              "      <td>3BFF0DJK8XCEIOT30ZLBPPSRMZQTSD</td>\n",
              "      <td>bible</td>\n",
              "      <td>Let your hand be lifted up above your adversaries, and let all of your enemies be cut off.</td>\n",
              "      <td>hand</td>\n",
              "      <td>0.267857</td>\n",
              "    </tr>\n",
              "    <tr>\n",
              "      <th>4</th>\n",
              "      <td>3QREJ3J433XSBS8QMHAICCR0BQ1LKR</td>\n",
              "      <td>bible</td>\n",
              "      <td>Abimelech chased him, and he fled before him, and many fell wounded, even to the entrance of the gate.</td>\n",
              "      <td>entrance</td>\n",
              "      <td>0.000000</td>\n",
              "    </tr>\n",
              "  </tbody>\n",
              "</table>\n",
              "</div>"
            ],
            "text/plain": [
              "                               id corpus  ...     token complexity\n",
              "0  3K8CQCU3KE19US5SN890DFPK3SANWR  bible  ...      hand   0.000000\n",
              "1  3Q2T3FD0ON86LCI41NJYV3PN0BW3MV  bible  ...      hand   0.197368\n",
              "2  3ULIZ0H1VA5C32JJMKOTQ8Z4GUS51B  bible  ...      hand   0.200000\n",
              "3  3BFF0DJK8XCEIOT30ZLBPPSRMZQTSD  bible  ...      hand   0.267857\n",
              "4  3QREJ3J433XSBS8QMHAICCR0BQ1LKR  bible  ...  entrance   0.000000\n",
              "\n",
              "[5 rows x 5 columns]"
            ]
          },
          "metadata": {
            "tags": []
          },
          "execution_count": 11
        }
      ]
    },
    {
      "cell_type": "markdown",
      "metadata": {
        "id": "6UOXTybL0bqy"
      },
      "source": [
        "## 1.3 Preprocess cleaned data"
      ]
    },
    {
      "cell_type": "code",
      "metadata": {
        "id": "J42UGkdr0sAI"
      },
      "source": [
        "import torchtext.vocab"
      ],
      "execution_count": 12,
      "outputs": []
    },
    {
      "cell_type": "code",
      "metadata": {
        "id": "jJSpbt7O0gH0"
      },
      "source": [
        "# use the Glove 6B 100d\n",
        "cache_dir = \"/content/gdrive/My Drive/Colab Notebooks/CS505FinalProject/data\"\n",
        "# glove = vocab.pretrained_aliases[\"glove.6B.100d\"](cache=cache_dir)\n",
        "glove = torchtext.vocab.GloVe(name='6B', dim=100, cache=cache_dir)"
      ],
      "execution_count": 13,
      "outputs": []
    },
    {
      "cell_type": "code",
      "metadata": {
        "colab": {
          "base_uri": "https://localhost:8080/"
        },
        "id": "2BdS5avY0mu2",
        "outputId": "e427b965-0f62-4c1c-8f9d-fa284ab7281d"
      },
      "source": [
        "# get all the non-unique tokens for prediction\n",
        "tokens = df['token'].dropna().to_list()\n",
        "tokens = [token.lower() for token in tokens] # lowercase\n",
        "print(len(tokens))\n",
        "\n",
        "# check if all tokens are in Glove\n",
        "for token in tokens:\n",
        "  if token not in glove.stoi:\n",
        "    print(\"Token Not Found:\", token)"
      ],
      "execution_count": 14,
      "outputs": [
        {
          "output_type": "stream",
          "text": [
            "7659\n",
            "Token Not Found: perverseness\n",
            "Token Not Found: perverseness\n",
            "Token Not Found: perverseness\n",
            "Token Not Found: housetops\n",
            "Token Not Found: slanderers\n",
            "Token Not Found: plowmen\n",
            "Token Not Found: dainties\n",
            "Token Not Found: dainties\n",
            "Token Not Found: dainties\n",
            "Token Not Found: dainties\n",
            "Token Not Found: dainties\n",
            "Token Not Found: dunghill\n",
            "Token Not Found: carotids\n",
            "Token Not Found: tace\n"
          ],
          "name": "stdout"
        }
      ]
    },
    {
      "cell_type": "markdown",
      "metadata": {
        "id": "J4u-qzrX1j0w"
      },
      "source": [
        "### 1.3.1 Create word frequency & word length features for each token"
      ]
    },
    {
      "cell_type": "code",
      "metadata": {
        "colab": {
          "base_uri": "https://localhost:8080/"
        },
        "id": "2K7sL1RK2OWh",
        "outputId": "b5066c6e-f675-4af0-c2ec-723fefb5a360"
      },
      "source": [
        "import string\n",
        "import re\n",
        "import nltk\n",
        "from nltk.corpus import stopwords\n",
        "nltk.download('stopwords')\n",
        "from collections import Counter\n"
      ],
      "execution_count": 15,
      "outputs": [
        {
          "output_type": "stream",
          "text": [
            "[nltk_data] Downloading package stopwords to /root/nltk_data...\n",
            "[nltk_data]   Unzipping corpora/stopwords.zip.\n"
          ],
          "name": "stdout"
        }
      ]
    },
    {
      "cell_type": "code",
      "metadata": {
        "colab": {
          "base_uri": "https://localhost:8080/",
          "height": 204
        },
        "id": "kDir5c0v1TVq",
        "outputId": "7db6dd36-6335-4dda-9889-f486a8287bdf"
      },
      "source": [
        "# create a dataframe for handcrafted features: word length & word frequency\n",
        "train_df = pd.DataFrame(tokens, columns =['token'])\n",
        "\n",
        "# add back complexity\n",
        "train_df['complexity'] = df['complexity']\n",
        "\n",
        "# word length\n",
        "train_df['word_length'] = train_df['token'].map(lambda x: len(x))\n",
        "\n",
        "# punctuations\n",
        "punc = string.punctuation\n",
        "\n",
        "# stop words\n",
        "stop_words = set(stopwords.words('english')) \n",
        "\n",
        "# word frequency\n",
        "# tokenize the whole curpus\n",
        "temp = df['sentence'].to_list()\n",
        "texts = []\n",
        "for sent in temp:\n",
        "  sent = sent.lower()\n",
        "  sent = ''.join([c for c in sent if c not in punc])\n",
        "  words = [word for word in sent.split(' ') if (word.isalpha() and word not in stop_words)]\n",
        "  texts += words\n",
        "# count frequency\n",
        "count = Counter(texts)\n",
        "train_df['word_frequency'] = train_df['token'].map(lambda x: count[x])\n",
        "\n",
        "train_df.head()"
      ],
      "execution_count": 16,
      "outputs": [
        {
          "output_type": "execute_result",
          "data": {
            "text/html": [
              "<div>\n",
              "<style scoped>\n",
              "    .dataframe tbody tr th:only-of-type {\n",
              "        vertical-align: middle;\n",
              "    }\n",
              "\n",
              "    .dataframe tbody tr th {\n",
              "        vertical-align: top;\n",
              "    }\n",
              "\n",
              "    .dataframe thead th {\n",
              "        text-align: right;\n",
              "    }\n",
              "</style>\n",
              "<table border=\"1\" class=\"dataframe\">\n",
              "  <thead>\n",
              "    <tr style=\"text-align: right;\">\n",
              "      <th></th>\n",
              "      <th>token</th>\n",
              "      <th>complexity</th>\n",
              "      <th>word_length</th>\n",
              "      <th>word_frequency</th>\n",
              "    </tr>\n",
              "  </thead>\n",
              "  <tbody>\n",
              "    <tr>\n",
              "      <th>0</th>\n",
              "      <td>river</td>\n",
              "      <td>0.000000</td>\n",
              "      <td>5</td>\n",
              "      <td>26</td>\n",
              "    </tr>\n",
              "    <tr>\n",
              "      <th>1</th>\n",
              "      <td>brothers</td>\n",
              "      <td>0.000000</td>\n",
              "      <td>8</td>\n",
              "      <td>36</td>\n",
              "    </tr>\n",
              "    <tr>\n",
              "      <th>2</th>\n",
              "      <td>brothers</td>\n",
              "      <td>0.050000</td>\n",
              "      <td>8</td>\n",
              "      <td>36</td>\n",
              "    </tr>\n",
              "    <tr>\n",
              "      <th>3</th>\n",
              "      <td>brothers</td>\n",
              "      <td>0.150000</td>\n",
              "      <td>8</td>\n",
              "      <td>36</td>\n",
              "    </tr>\n",
              "    <tr>\n",
              "      <th>4</th>\n",
              "      <td>brothers</td>\n",
              "      <td>0.263889</td>\n",
              "      <td>8</td>\n",
              "      <td>36</td>\n",
              "    </tr>\n",
              "  </tbody>\n",
              "</table>\n",
              "</div>"
            ],
            "text/plain": [
              "      token  complexity  word_length  word_frequency\n",
              "0     river    0.000000            5              26\n",
              "1  brothers    0.000000            8              36\n",
              "2  brothers    0.050000            8              36\n",
              "3  brothers    0.150000            8              36\n",
              "4  brothers    0.263889            8              36"
            ]
          },
          "metadata": {
            "tags": []
          },
          "execution_count": 16
        }
      ]
    },
    {
      "cell_type": "markdown",
      "metadata": {
        "id": "nBH4Nq4n2zJH"
      },
      "source": [
        "The `texts` variable is created from combining all the tokens from every corpus in the training data, which is what we used to calculate `word_frequency` feature. **However**, the sentence shown in each row is only a part of the whole corpus; therefore, `word_frequency` is not a reliable feature to be used."
      ]
    },
    {
      "cell_type": "code",
      "metadata": {
        "colab": {
          "base_uri": "https://localhost:8080/"
        },
        "id": "knrnb8yj2LTd",
        "outputId": "3187e61b-d590-4998-97ea-a275da019653"
      },
      "source": [
        "len(texts)"
      ],
      "execution_count": 21,
      "outputs": [
        {
          "output_type": "execute_result",
          "data": {
            "text/plain": [
              "107823"
            ]
          },
          "metadata": {
            "tags": []
          },
          "execution_count": 21
        }
      ]
    },
    {
      "cell_type": "markdown",
      "metadata": {
        "id": "I4N3wvc__oVn"
      },
      "source": [
        "### 1.3.2 Create `word_frequency` from real text"
      ]
    },
    {
      "cell_type": "markdown",
      "metadata": {
        "id": "tHoVXiVH_vES"
      },
      "source": [
        "#### [Bible WEB](https://github.com/scrollmapper/bible_databases/tree/master/txt/WEB)"
      ]
    },
    {
      "cell_type": "code",
      "metadata": {
        "id": "vCr5Wy2N_sEj"
      },
      "source": [
        "biblePath = r\"/content/gdrive/My Drive/Colab Notebooks/CS505FinalProject/bibleWEB\""
      ],
      "execution_count": 17,
      "outputs": []
    },
    {
      "cell_type": "code",
      "metadata": {
        "id": "4XrIfQwJLqvG"
      },
      "source": [
        "import os\n",
        "from os.path import isfile, join\n",
        "from os import listdir\n",
        "bibleList = sorted([f for f in listdir(biblePath) if isfile(join(biblePath, f))])"
      ],
      "execution_count": 18,
      "outputs": []
    },
    {
      "cell_type": "code",
      "metadata": {
        "colab": {
          "base_uri": "https://localhost:8080/",
          "height": 35
        },
        "id": "cbCkiRyhMvoL",
        "outputId": "cb6dc13b-e918-45c2-f9cb-72318b409848"
      },
      "source": [
        "bibleList[0]"
      ],
      "execution_count": 19,
      "outputs": [
        {
          "output_type": "execute_result",
          "data": {
            "application/vnd.google.colaboratory.intrinsic+json": {
              "type": "string"
            },
            "text/plain": [
              "'1 Genesis - World English Bible (WEB).txt'"
            ]
          },
          "metadata": {
            "tags": []
          },
          "execution_count": 19
        }
      ]
    },
    {
      "cell_type": "code",
      "metadata": {
        "id": "xuSvzP4_SY9w"
      },
      "source": [
        "f = open(os.path.join(biblePath, bibleList[0]), 'r')\n",
        "text = f.read().lower()"
      ],
      "execution_count": 20,
      "outputs": []
    },
    {
      "cell_type": "code",
      "metadata": {
        "id": "F3UhIRKJTLDk"
      },
      "source": [
        "def bible_tokenizer(chapter: string):\n",
        "  punc = string.punctuation\n",
        "  stop_words = set(stopwords.words('english')) \n",
        "  sents = []\n",
        "  for s in chapter.lower().split('\\n'):\n",
        "    sent = ''.join([c for c in s if c not in punc])\n",
        "    words = [word for word in sent.split(' ') if (word.isalpha() and word not in stop_words)]\n",
        "    sents += words\n",
        "  return sents"
      ],
      "execution_count": 21,
      "outputs": []
    },
    {
      "cell_type": "markdown",
      "metadata": {
        "id": "3_xzwsobaIxM"
      },
      "source": [
        "#### Bible word counter"
      ]
    },
    {
      "cell_type": "code",
      "metadata": {
        "id": "adqU50rFM2RF"
      },
      "source": [
        "bible_tokens = []\n",
        "for chapter in bibleList:\n",
        "  text = open(os.path.join(biblePath, bibleList[0]), 'r')\n",
        "  tokenized_chapter = bible_tokenizer(text.read())\n",
        "  bible_tokens += tokenized_chapter\n",
        "\n",
        "bible_counter = Counter(bible_tokens)"
      ],
      "execution_count": 22,
      "outputs": []
    },
    {
      "cell_type": "markdown",
      "metadata": {
        "id": "RcL3BmHotgo1"
      },
      "source": [
        "### 1.3.3 ELMo features"
      ]
    },
    {
      "cell_type": "code",
      "metadata": {
        "id": "D6gdMaZdxs40"
      },
      "source": [
        "import tensorflow_hub as hub\n",
        "import tensorflow as tf"
      ],
      "execution_count": 17,
      "outputs": []
    },
    {
      "cell_type": "code",
      "metadata": {
        "colab": {
          "base_uri": "https://localhost:8080/",
          "height": 35
        },
        "id": "_P9XDRWs20c9",
        "outputId": "5016e525-cb70-4b0c-e6da-6f88c81cfa9f"
      },
      "source": [
        "tf.__version__"
      ],
      "execution_count": 18,
      "outputs": [
        {
          "output_type": "execute_result",
          "data": {
            "application/vnd.google.colaboratory.intrinsic+json": {
              "type": "string"
            },
            "text/plain": [
              "'1.15.2'"
            ]
          },
          "metadata": {
            "tags": []
          },
          "execution_count": 18
        }
      ]
    },
    {
      "cell_type": "code",
      "metadata": {
        "id": "QruPAjYztkTa"
      },
      "source": [
        "elmo = hub.Module(\"https://tfhub.dev/google/elmo/3\", trainable=True)"
      ],
      "execution_count": 19,
      "outputs": []
    },
    {
      "cell_type": "code",
      "metadata": {
        "colab": {
          "base_uri": "https://localhost:8080/"
        },
        "id": "8tphHMaAywtS",
        "outputId": "9cbde92c-8bdd-461e-93ba-8948191936da"
      },
      "source": [
        "test_sent = df.head(1).values[0, 2]\n",
        "test_word = df.head(1).values[0, 3]\n",
        "print('Sentence:', test_sent, '\\n', 'Word:', test_word)"
      ],
      "execution_count": 20,
      "outputs": [
        {
          "output_type": "stream",
          "text": [
            "Sentence: Behold, there came up out of the river seven cattle, sleek and fat, and they fed in the marsh grass. \n",
            " Word: river\n"
          ],
          "name": "stdout"
        }
      ]
    },
    {
      "cell_type": "code",
      "metadata": {
        "colab": {
          "base_uri": "https://localhost:8080/",
          "height": 199
        },
        "id": "epMAqkQ_enQ3",
        "outputId": "c81ff334-bf35-43f1-b8c7-56fd2457fed6"
      },
      "source": [
        "test_sent2 = df.head(2).values[1, 2]\n",
        "test_word2 = df.head(2).values[1, 3]\n",
        "print('Sentence:', test_sent2, '\\n', 'Word:', test_word2)\n",
        "df.head(2)"
      ],
      "execution_count": 21,
      "outputs": [
        {
          "output_type": "stream",
          "text": [
            "Sentence: I am a fellow bondservant with you and with your brothers, the prophets, and with those who keep the words of this book. \n",
            " Word: brothers\n"
          ],
          "name": "stdout"
        },
        {
          "output_type": "execute_result",
          "data": {
            "text/html": [
              "<div>\n",
              "<style scoped>\n",
              "    .dataframe tbody tr th:only-of-type {\n",
              "        vertical-align: middle;\n",
              "    }\n",
              "\n",
              "    .dataframe tbody tr th {\n",
              "        vertical-align: top;\n",
              "    }\n",
              "\n",
              "    .dataframe thead th {\n",
              "        text-align: right;\n",
              "    }\n",
              "</style>\n",
              "<table border=\"1\" class=\"dataframe\">\n",
              "  <thead>\n",
              "    <tr style=\"text-align: right;\">\n",
              "      <th></th>\n",
              "      <th>id</th>\n",
              "      <th>corpus</th>\n",
              "      <th>sentence</th>\n",
              "      <th>token</th>\n",
              "      <th>complexity</th>\n",
              "    </tr>\n",
              "  </thead>\n",
              "  <tbody>\n",
              "    <tr>\n",
              "      <th>0</th>\n",
              "      <td>3ZLW647WALVGE8EBR50EGUBPU4P32A</td>\n",
              "      <td>bible</td>\n",
              "      <td>Behold, there came up out of the river seven cattle, sleek and fat, and they fed in the marsh grass.</td>\n",
              "      <td>river</td>\n",
              "      <td>0.0</td>\n",
              "    </tr>\n",
              "    <tr>\n",
              "      <th>1</th>\n",
              "      <td>34R0BODSP1ZBN3DVY8J8XSIY551E5C</td>\n",
              "      <td>bible</td>\n",
              "      <td>I am a fellow bondservant with you and with your brothers, the prophets, and with those who keep the words of this book.</td>\n",
              "      <td>brothers</td>\n",
              "      <td>0.0</td>\n",
              "    </tr>\n",
              "  </tbody>\n",
              "</table>\n",
              "</div>"
            ],
            "text/plain": [
              "                               id corpus  ...     token complexity\n",
              "0  3ZLW647WALVGE8EBR50EGUBPU4P32A  bible  ...     river        0.0\n",
              "1  34R0BODSP1ZBN3DVY8J8XSIY551E5C  bible  ...  brothers        0.0\n",
              "\n",
              "[2 rows x 5 columns]"
            ]
          },
          "metadata": {
            "tags": []
          },
          "execution_count": 21
        }
      ]
    },
    {
      "cell_type": "code",
      "metadata": {
        "id": "9BhdHFpKE97U"
      },
      "source": [
        "def tokenizer(sent):\n",
        "  punc = string.punctuation\n",
        "  s = ''.join([c for c in sent.lower() if c not in punc])\n",
        "  words = [word for word in s.split(' ') if (word.isalpha() and word not in stop_words)]\n",
        "  return words"
      ],
      "execution_count": 77,
      "outputs": []
    },
    {
      "cell_type": "code",
      "metadata": {
        "id": "LLNyYWyqoXWi"
      },
      "source": [
        "def find_index(s, word):\n",
        "  word = word.lower()\n",
        "  if (word in s):\n",
        "    return s.index(word)\n",
        "\n",
        "  \n",
        "  for w in range(len(s)):\n",
        "    if (word in s[w]):\n",
        "      return w\n",
        "  return -1"
      ],
      "execution_count": 156,
      "outputs": []
    },
    {
      "cell_type": "code",
      "metadata": {
        "id": "v2KrGIubI3re"
      },
      "source": [
        " def list_index(sent, word):\n",
        "  punc = string.punctuation\n",
        "  s = ''.join([c for c in sent.lower() if c not in punc])\n",
        "  return s.split(' ').index(word.lower())"
      ],
      "execution_count": 70,
      "outputs": []
    },
    {
      "cell_type": "code",
      "metadata": {
        "colab": {
          "base_uri": "https://localhost:8080/"
        },
        "id": "jrfNezNFJn7y",
        "outputId": "d4773b95-f927-4ddf-c271-79089dd7c3af"
      },
      "source": [
        "test_index = list_index(test_sent, test_word)\n",
        "print(test_index)\n",
        "print(tokenizer(test_sent))"
      ],
      "execution_count": 100,
      "outputs": [
        {
          "output_type": "stream",
          "text": [
            "7\n",
            "['behold', 'came', 'river', 'seven', 'cattle', 'sleek', 'fat', 'fed', 'marsh', 'grass']\n"
          ],
          "name": "stdout"
        }
      ]
    },
    {
      "cell_type": "code",
      "metadata": {
        "colab": {
          "base_uri": "https://localhost:8080/"
        },
        "id": "IeJUZnvCfKhA",
        "outputId": "b3533ad9-7b1a-49c3-caf5-f20574f45992"
      },
      "source": [
        "test_index2 = tokenizer(test_sent2).index(test_word2)\n",
        "print(test_index2)\n",
        "print(tokenizer(test_sent2))\n",
        "tokenized_test_sent2 = tokenizer(test_sent2) + [\"\"]*3\n",
        "print(tokenized_test_sent2)"
      ],
      "execution_count": 126,
      "outputs": [
        {
          "output_type": "stream",
          "text": [
            "2\n",
            "['fellow', 'bondservant', 'brothers', 'prophets', 'keep', 'words', 'book']\n",
            "['fellow', 'bondservant', 'brothers', 'prophets', 'keep', 'words', 'book', '', '', '']\n"
          ],
          "name": "stdout"
        }
      ]
    },
    {
      "cell_type": "code",
      "metadata": {
        "colab": {
          "base_uri": "https://localhost:8080/"
        },
        "id": "536Qr3zCe7f_",
        "outputId": "2c8755c6-6569-417c-f831-43459ecb4632"
      },
      "source": [
        "test_embedding = elmo({\"tokens\": [tokenizer(test_sent), tokenized_test_sent2], \"sequence_len\": [10, 7]}, signature='tokens', as_dict=True)['elmo']\n",
        "print('Run session...')\n",
        "with tf.Session() as sess:\n",
        "    sess.run(tf.global_variables_initializer())\n",
        "    sess.run(tf.tables_initializer())\n",
        "    # return average of ELMo features\n",
        "    test_vectors = sess.run(test_embedding)"
      ],
      "execution_count": 128,
      "outputs": [
        {
          "output_type": "stream",
          "text": [
            "INFO:tensorflow:Saver not created because there are no variables in the graph to restore\n"
          ],
          "name": "stdout"
        },
        {
          "output_type": "stream",
          "text": [
            "INFO:tensorflow:Saver not created because there are no variables in the graph to restore\n"
          ],
          "name": "stderr"
        },
        {
          "output_type": "stream",
          "text": [
            "Run session...\n"
          ],
          "name": "stdout"
        }
      ]
    },
    {
      "cell_type": "code",
      "metadata": {
        "id": "QecHlLDWsilN"
      },
      "source": [
        "# def compute_elmo_tokens(tokens, sequence_len):\n",
        "#   embedding = elmo({\"tokens\": tokens, \"sequence_len\": sequence_len}, signature='tokens', as_dict=True)['elmo']\n",
        "#   print('Run session...')\n",
        "#   with tf.Session() as sess:\n",
        "#       sess.run(tf.global_variables_initializer())\n",
        "#       sess.run(tf.tables_initializer())\n",
        "#       # return average of ELMo features\n",
        "#       vectors = sess.run(embedding)\n",
        "#   return vectors"
      ],
      "execution_count": null,
      "outputs": []
    },
    {
      "cell_type": "code",
      "metadata": {
        "id": "5kEOVzcAzvZ_"
      },
      "source": [
        "#extract elmo vectors\n",
        "def elmo_vectors_word(x: string):\n",
        "  embeddings = elmo([x], signature='default', as_dict=True)[\"elmo\"]\n",
        "\n",
        "  with tf.Session() as sess:\n",
        "    sess.run(tf.global_variables_initializer())\n",
        "    sess.run(tf.tables_initializer())\n",
        "    # return average of ELMo features\n",
        "    return sess.run(embeddings)"
      ],
      "execution_count": 24,
      "outputs": []
    },
    {
      "cell_type": "code",
      "metadata": {
        "colab": {
          "base_uri": "https://localhost:8080/"
        },
        "id": "SX5OkdiaNG4a",
        "outputId": "9b15c9c1-bfcc-4c94-b38b-a3b2f1ea1005"
      },
      "source": [
        "test_elmo = elmo_vectors_word(test_sent, 'default')\n",
        "test_elmo[0, test_index]"
      ],
      "execution_count": 54,
      "outputs": [
        {
          "output_type": "stream",
          "text": [
            "INFO:tensorflow:Saver not created because there are no variables in the graph to restore\n"
          ],
          "name": "stdout"
        },
        {
          "output_type": "stream",
          "text": [
            "INFO:tensorflow:Saver not created because there are no variables in the graph to restore\n"
          ],
          "name": "stderr"
        }
      ]
    },
    {
      "cell_type": "code",
      "metadata": {
        "id": "LY2awlr8gZGr"
      },
      "source": [
        "def clean_for_elmo(sents, words):\n",
        "  raw_tokens = []\n",
        "  sequence_len = []\n",
        "  index_tokens = []\n",
        "  for i in range(len(sents)):\n",
        "    tokenized = tokenizer(sents[i]) #return as str[]\n",
        "    raw_tokens += [tokenized]\n",
        "\n",
        "    sequence_len.append(len(tokenized))\n",
        "    index = find_index(tokenized, words[i])\n",
        "    if (index == -1):\n",
        "      print('-------------')\n",
        "      print(i)\n",
        "      print(sents[i])\n",
        "      print(tokenized)\n",
        "      print(words[i])\n",
        "      print('COULD NOT FIND WORD!!')\n",
        "    index_tokens.append(index)\n",
        "\n",
        "\n",
        "  max_len = max(sequence_len)\n",
        "  tokens = []\n",
        "  for t in raw_tokens:\n",
        "    if (len(t) < max_len):\n",
        "      dif = max_len-len(t)\n",
        "      tokens += [t + [\"\"]*(dif)]\n",
        "    else:\n",
        "      tokens += [t]\n",
        "  return tokens, sequence_len, index_tokens"
      ],
      "execution_count": 157,
      "outputs": []
    },
    {
      "cell_type": "code",
      "metadata": {
        "id": "oWDIqxX26jV6"
      },
      "source": [
        "bible_df = df[df['corpus'] == 'bible']"
      ],
      "execution_count": 51,
      "outputs": []
    },
    {
      "cell_type": "code",
      "metadata": {
        "colab": {
          "base_uri": "https://localhost:8080/"
        },
        "id": "QZuG1VynvfSk",
        "outputId": "106c8b2b-328d-419a-cb0e-5090a945014d"
      },
      "source": [
        "bible_df.shape"
      ],
      "execution_count": 147,
      "outputs": [
        {
          "output_type": "execute_result",
          "data": {
            "text/plain": [
              "(2574, 5)"
            ]
          },
          "metadata": {
            "tags": []
          },
          "execution_count": 147
        }
      ]
    },
    {
      "cell_type": "code",
      "metadata": {
        "id": "z2rICAaCksgh"
      },
      "source": [
        "#compute only the first half first for lower computing time\n",
        "bible_sents = bible_df.iloc[:800]['sentence'].tolist()\n",
        "bible_words = bible_df.iloc[:800]['token'].tolist()"
      ],
      "execution_count": 160,
      "outputs": []
    },
    {
      "cell_type": "code",
      "metadata": {
        "id": "R8ythzX1hQIL"
      },
      "source": [
        "tokens_elmo, seq_len_elmo, index_token = clean_for_elmo(bible_sents, bible_words)"
      ],
      "execution_count": 161,
      "outputs": []
    },
    {
      "cell_type": "code",
      "metadata": {
        "colab": {
          "base_uri": "https://localhost:8080/"
        },
        "id": "LsnWf9Q3iq_t",
        "outputId": "694a2f16-b11c-4a53-801a-3dfb4f00d938"
      },
      "source": [
        "elmo_vectors_first = compute_elmo_tokens(tokens_elmo, seq_len_elmo)"
      ],
      "execution_count": 162,
      "outputs": [
        {
          "output_type": "stream",
          "text": [
            "INFO:tensorflow:Saver not created because there are no variables in the graph to restore\n"
          ],
          "name": "stdout"
        },
        {
          "output_type": "stream",
          "text": [
            "INFO:tensorflow:Saver not created because there are no variables in the graph to restore\n"
          ],
          "name": "stderr"
        },
        {
          "output_type": "stream",
          "text": [
            "Run session...\n"
          ],
          "name": "stdout"
        }
      ]
    },
    {
      "cell_type": "code",
      "metadata": {
        "id": "HTga88puw0OM"
      },
      "source": [
        "def compute_elmo(batch_size=800):\n",
        "  elmo_vectors = []\n",
        "  index_all_token = []\n",
        "  bible_sents = bible_df.iloc[:batch_size]['sentence'].tolist()\n",
        "  bible_words = bible_df.iloc[:batch_size]['token'].tolist()\n",
        "  new_batch_size = batch_size\n",
        "  while (new_batch_size < bible_df.shape[0]):\n",
        "    tokens_elmo, seq_len_elmo, index_token = clean_for_elmo(bible_sents, bible_words)\n",
        "    elmo_vectors_batch = compute_elmo_tokens(tokens_elmo, seq_len_elmo)\n",
        "    elmo_vectors.append(elmo_vectors_batch)\n",
        "    index_all_token.append(index_token)\n",
        "    old_batch_size = new_batch_size\n",
        "    print(old_batch_size)\n",
        "    new_batch_size += batch_size\n",
        "    bible_sents = bible_df.iloc[old_batch_size:new_batch_size]['sentence'].tolist()\n",
        "    bible_words = bible_df.iloc[old_batch_size:new_batch_size]['token'].tolist()\n",
        "\n",
        "# disregard the rest 174\n",
        "\n",
        "  # bible_sents = bible_df.iloc[old_batch_size:]['sentence'].tolist()\n",
        "  # bible_words = bible_df.iloc[old_batch_size:]['token'].tolist()\n",
        "  # tokens_elmo, seq_len_elmo, index_token = clean_for_elmo(bible_sents, bible_words)\n",
        "  # elmo_vectors_batch = compute_elmo_tokens(tokens_elmo, seq_len_elmo)\n",
        "  # elmo_vectors.append(elmo_vectors_batch)\n",
        "  # index_all_token.append(index_token)\n",
        "\n",
        "  return elmo_vectors, index_all_token"
      ],
      "execution_count": 267,
      "outputs": []
    },
    {
      "cell_type": "code",
      "metadata": {
        "colab": {
          "base_uri": "https://localhost:8080/"
        },
        "id": "TMbokkTOyODv",
        "outputId": "2bc18d16-e8a4-41d2-f74a-b04cf66649e6"
      },
      "source": [
        "elmo_vectors, index_token = compute_elmo()"
      ],
      "execution_count": 268,
      "outputs": [
        {
          "output_type": "stream",
          "text": [
            "INFO:tensorflow:Saver not created because there are no variables in the graph to restore\n"
          ],
          "name": "stdout"
        },
        {
          "output_type": "stream",
          "text": [
            "INFO:tensorflow:Saver not created because there are no variables in the graph to restore\n"
          ],
          "name": "stderr"
        },
        {
          "output_type": "stream",
          "text": [
            "Run session...\n",
            "800\n",
            "INFO:tensorflow:Saver not created because there are no variables in the graph to restore\n"
          ],
          "name": "stdout"
        },
        {
          "output_type": "stream",
          "text": [
            "INFO:tensorflow:Saver not created because there are no variables in the graph to restore\n"
          ],
          "name": "stderr"
        },
        {
          "output_type": "stream",
          "text": [
            "Run session...\n",
            "1600\n",
            "INFO:tensorflow:Saver not created because there are no variables in the graph to restore\n"
          ],
          "name": "stdout"
        },
        {
          "output_type": "stream",
          "text": [
            "INFO:tensorflow:Saver not created because there are no variables in the graph to restore\n"
          ],
          "name": "stderr"
        },
        {
          "output_type": "stream",
          "text": [
            "Run session...\n",
            "2400\n"
          ],
          "name": "stdout"
        }
      ]
    },
    {
      "cell_type": "code",
      "metadata": {
        "colab": {
          "base_uri": "https://localhost:8080/"
        },
        "id": "9ZUiIYHxykMD",
        "outputId": "ea89fc8f-06bf-4179-9035-731f997c3964"
      },
      "source": [
        "print(len(elmo_vectors))\n",
        "print(len(index_token))"
      ],
      "execution_count": 269,
      "outputs": [
        {
          "output_type": "stream",
          "text": [
            "3\n",
            "3\n"
          ],
          "name": "stdout"
        }
      ]
    },
    {
      "cell_type": "markdown",
      "metadata": {
        "id": "z32A0wNytayM"
      },
      "source": [
        "#### ELMO word embedding"
      ]
    },
    {
      "cell_type": "code",
      "metadata": {
        "id": "LpCnblQWk6Tf"
      },
      "source": [
        "elmo_embedded_word = []\n",
        "for j in range(len(elmo_vectors)):\n",
        "  for i in range(len(elmo_vectors[j])):\n",
        "      elmo_embedded_word.append(elmo_vectors_first[i, index_token[j][i]])"
      ],
      "execution_count": 270,
      "outputs": []
    },
    {
      "cell_type": "markdown",
      "metadata": {
        "id": "Nuv3rvjRgY3V"
      },
      "source": [
        "#2. Train models"
      ]
    },
    {
      "cell_type": "markdown",
      "metadata": {
        "id": "dmTO8A4BggQb"
      },
      "source": [
        "## 2.1 Linear regression with new `word_frequency`"
      ]
    },
    {
      "cell_type": "markdown",
      "metadata": {
        "id": "CYaVo2V3idqD"
      },
      "source": [
        "### Bible text"
      ]
    },
    {
      "cell_type": "code",
      "metadata": {
        "colab": {
          "base_uri": "https://localhost:8080/"
        },
        "id": "L-a2RFpDgbLs",
        "outputId": "40622f85-b9ff-47f1-8eab-94feacda9220"
      },
      "source": [
        "bible_df = df[df['corpus'] == 'bible']\n",
        "print(bible_df.shape)"
      ],
      "execution_count": null,
      "outputs": [
        {
          "output_type": "stream",
          "text": [
            "(2574, 5)\n"
          ],
          "name": "stdout"
        }
      ]
    },
    {
      "cell_type": "code",
      "metadata": {
        "colab": {
          "base_uri": "https://localhost:8080/",
          "height": 306
        },
        "id": "Mqd9OSc3ioFY",
        "outputId": "9d431b7e-5e90-49a1-9416-665c5d9d30cc"
      },
      "source": [
        "bible_df.head()"
      ],
      "execution_count": null,
      "outputs": [
        {
          "output_type": "execute_result",
          "data": {
            "text/html": [
              "<div>\n",
              "<style scoped>\n",
              "    .dataframe tbody tr th:only-of-type {\n",
              "        vertical-align: middle;\n",
              "    }\n",
              "\n",
              "    .dataframe tbody tr th {\n",
              "        vertical-align: top;\n",
              "    }\n",
              "\n",
              "    .dataframe thead th {\n",
              "        text-align: right;\n",
              "    }\n",
              "</style>\n",
              "<table border=\"1\" class=\"dataframe\">\n",
              "  <thead>\n",
              "    <tr style=\"text-align: right;\">\n",
              "      <th></th>\n",
              "      <th>id</th>\n",
              "      <th>corpus</th>\n",
              "      <th>sentence</th>\n",
              "      <th>token</th>\n",
              "      <th>complexity</th>\n",
              "    </tr>\n",
              "  </thead>\n",
              "  <tbody>\n",
              "    <tr>\n",
              "      <th>0</th>\n",
              "      <td>3ZLW647WALVGE8EBR50EGUBPU4P32A</td>\n",
              "      <td>bible</td>\n",
              "      <td>Behold, there came up out of the river seven cattle, sleek and fat, and they fed in the marsh grass.</td>\n",
              "      <td>river</td>\n",
              "      <td>0.000000</td>\n",
              "    </tr>\n",
              "    <tr>\n",
              "      <th>1</th>\n",
              "      <td>34R0BODSP1ZBN3DVY8J8XSIY551E5C</td>\n",
              "      <td>bible</td>\n",
              "      <td>I am a fellow bondservant with you and with your brothers, the prophets, and with those who keep the words of this book.</td>\n",
              "      <td>brothers</td>\n",
              "      <td>0.000000</td>\n",
              "    </tr>\n",
              "    <tr>\n",
              "      <th>2</th>\n",
              "      <td>3S1WOPCJFGTJU2SGNAN2Y213N6WJE3</td>\n",
              "      <td>bible</td>\n",
              "      <td>The man, the lord of the land, said to us, 'By this I will know that you are honest men: leave one of your brothers with me, and take grain for the famine of your houses, and go your way.</td>\n",
              "      <td>brothers</td>\n",
              "      <td>0.050000</td>\n",
              "    </tr>\n",
              "    <tr>\n",
              "      <th>3</th>\n",
              "      <td>3BFNCI9LYKQN09BHXHH9CLSX5KP738</td>\n",
              "      <td>bible</td>\n",
              "      <td>Shimei had sixteen sons and six daughters; but his brothers didn't have many children, neither did all their family multiply like the children of Judah.</td>\n",
              "      <td>brothers</td>\n",
              "      <td>0.150000</td>\n",
              "    </tr>\n",
              "    <tr>\n",
              "      <th>4</th>\n",
              "      <td>3G5RUKN2EC3YIWSKUXZ8ZVH95R49N2</td>\n",
              "      <td>bible</td>\n",
              "      <td>He has put my brothers far from me.</td>\n",
              "      <td>brothers</td>\n",
              "      <td>0.263889</td>\n",
              "    </tr>\n",
              "  </tbody>\n",
              "</table>\n",
              "</div>"
            ],
            "text/plain": [
              "                               id corpus  ...     token complexity\n",
              "0  3ZLW647WALVGE8EBR50EGUBPU4P32A  bible  ...     river   0.000000\n",
              "1  34R0BODSP1ZBN3DVY8J8XSIY551E5C  bible  ...  brothers   0.000000\n",
              "2  3S1WOPCJFGTJU2SGNAN2Y213N6WJE3  bible  ...  brothers   0.050000\n",
              "3  3BFNCI9LYKQN09BHXHH9CLSX5KP738  bible  ...  brothers   0.150000\n",
              "4  3G5RUKN2EC3YIWSKUXZ8ZVH95R49N2  bible  ...  brothers   0.263889\n",
              "\n",
              "[5 rows x 5 columns]"
            ]
          },
          "metadata": {
            "tags": []
          },
          "execution_count": 27
        }
      ]
    },
    {
      "cell_type": "code",
      "metadata": {
        "id": "vUiCBDLCipMi"
      },
      "source": [
        "# get all the non-unique tokens for prediction\n",
        "tokens = df[df['corpus'] == 'bible']['token'].dropna().to_list()\n",
        "tokens = [token.lower() for token in tokens] # lowercase\n",
        "\n",
        "# create a dataframe for handcrafted features: word length & word frequency\n",
        "bible_train_df = pd.DataFrame(tokens, columns =['token'])\n",
        "\n",
        "# add back complexity\n",
        "bible_train_df['complexity'] = df['complexity']\n",
        "\n",
        "# word length & word frequency\n",
        "bible_train_df['word_length'] = bible_train_df['token'].map(lambda x: len(x))\n",
        "bible_train_df['word_frequency'] = bible_train_df['token'].map(lambda x: bible_counter[x])"
      ],
      "execution_count": null,
      "outputs": []
    },
    {
      "cell_type": "code",
      "metadata": {
        "colab": {
          "base_uri": "https://localhost:8080/",
          "height": 204
        },
        "id": "xAMtoo2JjVW0",
        "outputId": "d3bac4c2-6b12-453d-ca17-ff0109ecc049"
      },
      "source": [
        "bible_train_df.head()"
      ],
      "execution_count": null,
      "outputs": [
        {
          "output_type": "execute_result",
          "data": {
            "text/html": [
              "<div>\n",
              "<style scoped>\n",
              "    .dataframe tbody tr th:only-of-type {\n",
              "        vertical-align: middle;\n",
              "    }\n",
              "\n",
              "    .dataframe tbody tr th {\n",
              "        vertical-align: top;\n",
              "    }\n",
              "\n",
              "    .dataframe thead th {\n",
              "        text-align: right;\n",
              "    }\n",
              "</style>\n",
              "<table border=\"1\" class=\"dataframe\">\n",
              "  <thead>\n",
              "    <tr style=\"text-align: right;\">\n",
              "      <th></th>\n",
              "      <th>token</th>\n",
              "      <th>complexity</th>\n",
              "      <th>word_length</th>\n",
              "      <th>word_frequency</th>\n",
              "    </tr>\n",
              "  </thead>\n",
              "  <tbody>\n",
              "    <tr>\n",
              "      <th>0</th>\n",
              "      <td>river</td>\n",
              "      <td>0.000000</td>\n",
              "      <td>5</td>\n",
              "      <td>1056</td>\n",
              "    </tr>\n",
              "    <tr>\n",
              "      <th>1</th>\n",
              "      <td>brothers</td>\n",
              "      <td>0.000000</td>\n",
              "      <td>8</td>\n",
              "      <td>5346</td>\n",
              "    </tr>\n",
              "    <tr>\n",
              "      <th>2</th>\n",
              "      <td>brothers</td>\n",
              "      <td>0.050000</td>\n",
              "      <td>8</td>\n",
              "      <td>5346</td>\n",
              "    </tr>\n",
              "    <tr>\n",
              "      <th>3</th>\n",
              "      <td>brothers</td>\n",
              "      <td>0.150000</td>\n",
              "      <td>8</td>\n",
              "      <td>5346</td>\n",
              "    </tr>\n",
              "    <tr>\n",
              "      <th>4</th>\n",
              "      <td>brothers</td>\n",
              "      <td>0.263889</td>\n",
              "      <td>8</td>\n",
              "      <td>5346</td>\n",
              "    </tr>\n",
              "  </tbody>\n",
              "</table>\n",
              "</div>"
            ],
            "text/plain": [
              "      token  complexity  word_length  word_frequency\n",
              "0     river    0.000000            5            1056\n",
              "1  brothers    0.000000            8            5346\n",
              "2  brothers    0.050000            8            5346\n",
              "3  brothers    0.150000            8            5346\n",
              "4  brothers    0.263889            8            5346"
            ]
          },
          "metadata": {
            "tags": []
          },
          "execution_count": 29
        }
      ]
    },
    {
      "cell_type": "markdown",
      "metadata": {
        "id": "D6Y6wM2CRGpE"
      },
      "source": [
        "### create weight matrix"
      ]
    },
    {
      "cell_type": "code",
      "metadata": {
        "id": "FNwVzbmSRKCd"
      },
      "source": [
        "import numpy as np"
      ],
      "execution_count": null,
      "outputs": []
    },
    {
      "cell_type": "code",
      "metadata": {
        "id": "E24oXxzhjXE2"
      },
      "source": [
        "def create_weights_matrix(vocab, dimension=100):\n",
        "  \"\"\" create a matrix containing vectors for each word in Glove \"\"\"\n",
        "  matrix_len = len(vocab)\n",
        "  weights_matrix = np.zeros((matrix_len, dimension))\n",
        "\n",
        "  for i, word in enumerate(vocab):\n",
        "      try: \n",
        "          weights_matrix[i] = glove[word]\n",
        "      except KeyError:\n",
        "          weights_matrix[i] = np.random.normal(scale=0.6, size=(emb_dim, )) # initialize a random vector\n",
        "  #return torch.from_numpy(weights_matrix) # a tensor\n",
        "  return weights_matrix"
      ],
      "execution_count": null,
      "outputs": []
    },
    {
      "cell_type": "code",
      "metadata": {
        "colab": {
          "base_uri": "https://localhost:8080/",
          "height": 270
        },
        "id": "jmKr8Aj1QNzy",
        "outputId": "fa284536-d186-43b7-8074-10cf8436e865"
      },
      "source": [
        "# create the weight matrix\n",
        "weight_matrix = create_weights_matrix(tokens)\n",
        "print(weight_matrix.shape)\n",
        "\n",
        "# combine\n",
        "weight_matrix_df = pd.DataFrame(weight_matrix)\n",
        "\n",
        "train_df_combined = pd.concat([bible_train_df, weight_matrix_df], axis=1)\n",
        "train_df_combined.head()"
      ],
      "execution_count": null,
      "outputs": [
        {
          "output_type": "stream",
          "text": [
            "(2574, 100)\n"
          ],
          "name": "stdout"
        },
        {
          "output_type": "execute_result",
          "data": {
            "text/html": [
              "<div>\n",
              "<style scoped>\n",
              "    .dataframe tbody tr th:only-of-type {\n",
              "        vertical-align: middle;\n",
              "    }\n",
              "\n",
              "    .dataframe tbody tr th {\n",
              "        vertical-align: top;\n",
              "    }\n",
              "\n",
              "    .dataframe thead th {\n",
              "        text-align: right;\n",
              "    }\n",
              "</style>\n",
              "<table border=\"1\" class=\"dataframe\">\n",
              "  <thead>\n",
              "    <tr style=\"text-align: right;\">\n",
              "      <th></th>\n",
              "      <th>token</th>\n",
              "      <th>complexity</th>\n",
              "      <th>word_length</th>\n",
              "      <th>word_frequency</th>\n",
              "      <th>0</th>\n",
              "      <th>1</th>\n",
              "      <th>2</th>\n",
              "      <th>3</th>\n",
              "      <th>4</th>\n",
              "      <th>5</th>\n",
              "      <th>6</th>\n",
              "      <th>7</th>\n",
              "      <th>8</th>\n",
              "      <th>9</th>\n",
              "      <th>10</th>\n",
              "      <th>11</th>\n",
              "      <th>12</th>\n",
              "      <th>13</th>\n",
              "      <th>14</th>\n",
              "      <th>15</th>\n",
              "      <th>16</th>\n",
              "      <th>17</th>\n",
              "      <th>18</th>\n",
              "      <th>19</th>\n",
              "      <th>20</th>\n",
              "      <th>21</th>\n",
              "      <th>22</th>\n",
              "      <th>23</th>\n",
              "      <th>24</th>\n",
              "      <th>25</th>\n",
              "      <th>26</th>\n",
              "      <th>27</th>\n",
              "      <th>28</th>\n",
              "      <th>29</th>\n",
              "      <th>30</th>\n",
              "      <th>31</th>\n",
              "      <th>32</th>\n",
              "      <th>33</th>\n",
              "      <th>34</th>\n",
              "      <th>35</th>\n",
              "      <th>...</th>\n",
              "      <th>60</th>\n",
              "      <th>61</th>\n",
              "      <th>62</th>\n",
              "      <th>63</th>\n",
              "      <th>64</th>\n",
              "      <th>65</th>\n",
              "      <th>66</th>\n",
              "      <th>67</th>\n",
              "      <th>68</th>\n",
              "      <th>69</th>\n",
              "      <th>70</th>\n",
              "      <th>71</th>\n",
              "      <th>72</th>\n",
              "      <th>73</th>\n",
              "      <th>74</th>\n",
              "      <th>75</th>\n",
              "      <th>76</th>\n",
              "      <th>77</th>\n",
              "      <th>78</th>\n",
              "      <th>79</th>\n",
              "      <th>80</th>\n",
              "      <th>81</th>\n",
              "      <th>82</th>\n",
              "      <th>83</th>\n",
              "      <th>84</th>\n",
              "      <th>85</th>\n",
              "      <th>86</th>\n",
              "      <th>87</th>\n",
              "      <th>88</th>\n",
              "      <th>89</th>\n",
              "      <th>90</th>\n",
              "      <th>91</th>\n",
              "      <th>92</th>\n",
              "      <th>93</th>\n",
              "      <th>94</th>\n",
              "      <th>95</th>\n",
              "      <th>96</th>\n",
              "      <th>97</th>\n",
              "      <th>98</th>\n",
              "      <th>99</th>\n",
              "    </tr>\n",
              "  </thead>\n",
              "  <tbody>\n",
              "    <tr>\n",
              "      <th>0</th>\n",
              "      <td>river</td>\n",
              "      <td>0.000000</td>\n",
              "      <td>5</td>\n",
              "      <td>1056</td>\n",
              "      <td>-0.33249</td>\n",
              "      <td>-0.56631</td>\n",
              "      <td>0.54255</td>\n",
              "      <td>-0.11869</td>\n",
              "      <td>0.531290</td>\n",
              "      <td>-0.49381</td>\n",
              "      <td>0.64114</td>\n",
              "      <td>0.85982</td>\n",
              "      <td>0.39633</td>\n",
              "      <td>-1.53950</td>\n",
              "      <td>-0.30613</td>\n",
              "      <td>0.97267</td>\n",
              "      <td>-0.31192</td>\n",
              "      <td>-0.10311</td>\n",
              "      <td>0.359510</td>\n",
              "      <td>-0.60023</td>\n",
              "      <td>0.909830</td>\n",
              "      <td>-0.959540</td>\n",
              "      <td>-0.55375</td>\n",
              "      <td>0.082818</td>\n",
              "      <td>0.26711</td>\n",
              "      <td>0.64645</td>\n",
              "      <td>-0.098556</td>\n",
              "      <td>0.539240</td>\n",
              "      <td>-0.21810</td>\n",
              "      <td>-0.13430</td>\n",
              "      <td>-1.80700</td>\n",
              "      <td>-0.14879</td>\n",
              "      <td>0.39006</td>\n",
              "      <td>-0.62883</td>\n",
              "      <td>-0.38825</td>\n",
              "      <td>0.31925</td>\n",
              "      <td>0.77853</td>\n",
              "      <td>-0.60273</td>\n",
              "      <td>0.063585</td>\n",
              "      <td>-0.75916</td>\n",
              "      <td>...</td>\n",
              "      <td>-0.53185</td>\n",
              "      <td>0.72585</td>\n",
              "      <td>0.36811</td>\n",
              "      <td>0.19494</td>\n",
              "      <td>0.64276</td>\n",
              "      <td>0.81460</td>\n",
              "      <td>0.26748</td>\n",
              "      <td>-0.39275</td>\n",
              "      <td>0.425950</td>\n",
              "      <td>0.11699</td>\n",
              "      <td>0.21063</td>\n",
              "      <td>-0.061747</td>\n",
              "      <td>0.79298</td>\n",
              "      <td>-0.45978</td>\n",
              "      <td>0.85176</td>\n",
              "      <td>-0.36726</td>\n",
              "      <td>0.11816</td>\n",
              "      <td>0.504160</td>\n",
              "      <td>-0.065352</td>\n",
              "      <td>0.69672</td>\n",
              "      <td>0.37525</td>\n",
              "      <td>0.92586</td>\n",
              "      <td>-0.83036</td>\n",
              "      <td>-0.087948</td>\n",
              "      <td>-0.49715</td>\n",
              "      <td>0.21411</td>\n",
              "      <td>-0.82838</td>\n",
              "      <td>-0.85912</td>\n",
              "      <td>0.61576</td>\n",
              "      <td>1.18800</td>\n",
              "      <td>-0.30745</td>\n",
              "      <td>-1.20090</td>\n",
              "      <td>-1.70970</td>\n",
              "      <td>0.51400</td>\n",
              "      <td>-1.01590</td>\n",
              "      <td>0.55555</td>\n",
              "      <td>-1.03850</td>\n",
              "      <td>-0.69940</td>\n",
              "      <td>1.050600</td>\n",
              "      <td>0.24051</td>\n",
              "    </tr>\n",
              "    <tr>\n",
              "      <th>1</th>\n",
              "      <td>brothers</td>\n",
              "      <td>0.000000</td>\n",
              "      <td>8</td>\n",
              "      <td>5346</td>\n",
              "      <td>0.85968</td>\n",
              "      <td>-0.39038</td>\n",
              "      <td>-0.62678</td>\n",
              "      <td>-0.55279</td>\n",
              "      <td>0.097012</td>\n",
              "      <td>0.00658</td>\n",
              "      <td>-0.65021</td>\n",
              "      <td>-0.58272</td>\n",
              "      <td>-1.27630</td>\n",
              "      <td>0.11251</td>\n",
              "      <td>0.78504</td>\n",
              "      <td>0.16027</td>\n",
              "      <td>0.38327</td>\n",
              "      <td>0.62672</td>\n",
              "      <td>-0.017462</td>\n",
              "      <td>-0.36443</td>\n",
              "      <td>0.062441</td>\n",
              "      <td>0.039266</td>\n",
              "      <td>-0.47318</td>\n",
              "      <td>0.547680</td>\n",
              "      <td>0.42916</td>\n",
              "      <td>-0.25516</td>\n",
              "      <td>0.100900</td>\n",
              "      <td>0.041618</td>\n",
              "      <td>-0.14579</td>\n",
              "      <td>0.15174</td>\n",
              "      <td>-0.54301</td>\n",
              "      <td>-0.29787</td>\n",
              "      <td>0.36268</td>\n",
              "      <td>0.89550</td>\n",
              "      <td>0.65319</td>\n",
              "      <td>0.40141</td>\n",
              "      <td>0.03668</td>\n",
              "      <td>-0.34313</td>\n",
              "      <td>-0.102040</td>\n",
              "      <td>-0.19383</td>\n",
              "      <td>...</td>\n",
              "      <td>0.65085</td>\n",
              "      <td>0.97366</td>\n",
              "      <td>0.36997</td>\n",
              "      <td>-0.58266</td>\n",
              "      <td>0.58389</td>\n",
              "      <td>-0.62574</td>\n",
              "      <td>-0.24252</td>\n",
              "      <td>1.37500</td>\n",
              "      <td>-0.042651</td>\n",
              "      <td>0.16398</td>\n",
              "      <td>-0.53462</td>\n",
              "      <td>0.552750</td>\n",
              "      <td>-0.58019</td>\n",
              "      <td>-0.78386</td>\n",
              "      <td>-0.18787</td>\n",
              "      <td>-0.20305</td>\n",
              "      <td>0.11506</td>\n",
              "      <td>-0.089296</td>\n",
              "      <td>-0.766080</td>\n",
              "      <td>0.04339</td>\n",
              "      <td>0.50251</td>\n",
              "      <td>0.73799</td>\n",
              "      <td>0.23388</td>\n",
              "      <td>0.200380</td>\n",
              "      <td>-0.93906</td>\n",
              "      <td>-0.33974</td>\n",
              "      <td>-0.56534</td>\n",
              "      <td>-0.95945</td>\n",
              "      <td>-0.14597</td>\n",
              "      <td>-0.35173</td>\n",
              "      <td>-0.40463</td>\n",
              "      <td>-0.32671</td>\n",
              "      <td>0.24982</td>\n",
              "      <td>-0.27804</td>\n",
              "      <td>-0.99877</td>\n",
              "      <td>-0.39367</td>\n",
              "      <td>-0.30087</td>\n",
              "      <td>-0.24623</td>\n",
              "      <td>0.006483</td>\n",
              "      <td>-0.21982</td>\n",
              "    </tr>\n",
              "    <tr>\n",
              "      <th>2</th>\n",
              "      <td>brothers</td>\n",
              "      <td>0.050000</td>\n",
              "      <td>8</td>\n",
              "      <td>5346</td>\n",
              "      <td>0.85968</td>\n",
              "      <td>-0.39038</td>\n",
              "      <td>-0.62678</td>\n",
              "      <td>-0.55279</td>\n",
              "      <td>0.097012</td>\n",
              "      <td>0.00658</td>\n",
              "      <td>-0.65021</td>\n",
              "      <td>-0.58272</td>\n",
              "      <td>-1.27630</td>\n",
              "      <td>0.11251</td>\n",
              "      <td>0.78504</td>\n",
              "      <td>0.16027</td>\n",
              "      <td>0.38327</td>\n",
              "      <td>0.62672</td>\n",
              "      <td>-0.017462</td>\n",
              "      <td>-0.36443</td>\n",
              "      <td>0.062441</td>\n",
              "      <td>0.039266</td>\n",
              "      <td>-0.47318</td>\n",
              "      <td>0.547680</td>\n",
              "      <td>0.42916</td>\n",
              "      <td>-0.25516</td>\n",
              "      <td>0.100900</td>\n",
              "      <td>0.041618</td>\n",
              "      <td>-0.14579</td>\n",
              "      <td>0.15174</td>\n",
              "      <td>-0.54301</td>\n",
              "      <td>-0.29787</td>\n",
              "      <td>0.36268</td>\n",
              "      <td>0.89550</td>\n",
              "      <td>0.65319</td>\n",
              "      <td>0.40141</td>\n",
              "      <td>0.03668</td>\n",
              "      <td>-0.34313</td>\n",
              "      <td>-0.102040</td>\n",
              "      <td>-0.19383</td>\n",
              "      <td>...</td>\n",
              "      <td>0.65085</td>\n",
              "      <td>0.97366</td>\n",
              "      <td>0.36997</td>\n",
              "      <td>-0.58266</td>\n",
              "      <td>0.58389</td>\n",
              "      <td>-0.62574</td>\n",
              "      <td>-0.24252</td>\n",
              "      <td>1.37500</td>\n",
              "      <td>-0.042651</td>\n",
              "      <td>0.16398</td>\n",
              "      <td>-0.53462</td>\n",
              "      <td>0.552750</td>\n",
              "      <td>-0.58019</td>\n",
              "      <td>-0.78386</td>\n",
              "      <td>-0.18787</td>\n",
              "      <td>-0.20305</td>\n",
              "      <td>0.11506</td>\n",
              "      <td>-0.089296</td>\n",
              "      <td>-0.766080</td>\n",
              "      <td>0.04339</td>\n",
              "      <td>0.50251</td>\n",
              "      <td>0.73799</td>\n",
              "      <td>0.23388</td>\n",
              "      <td>0.200380</td>\n",
              "      <td>-0.93906</td>\n",
              "      <td>-0.33974</td>\n",
              "      <td>-0.56534</td>\n",
              "      <td>-0.95945</td>\n",
              "      <td>-0.14597</td>\n",
              "      <td>-0.35173</td>\n",
              "      <td>-0.40463</td>\n",
              "      <td>-0.32671</td>\n",
              "      <td>0.24982</td>\n",
              "      <td>-0.27804</td>\n",
              "      <td>-0.99877</td>\n",
              "      <td>-0.39367</td>\n",
              "      <td>-0.30087</td>\n",
              "      <td>-0.24623</td>\n",
              "      <td>0.006483</td>\n",
              "      <td>-0.21982</td>\n",
              "    </tr>\n",
              "    <tr>\n",
              "      <th>3</th>\n",
              "      <td>brothers</td>\n",
              "      <td>0.150000</td>\n",
              "      <td>8</td>\n",
              "      <td>5346</td>\n",
              "      <td>0.85968</td>\n",
              "      <td>-0.39038</td>\n",
              "      <td>-0.62678</td>\n",
              "      <td>-0.55279</td>\n",
              "      <td>0.097012</td>\n",
              "      <td>0.00658</td>\n",
              "      <td>-0.65021</td>\n",
              "      <td>-0.58272</td>\n",
              "      <td>-1.27630</td>\n",
              "      <td>0.11251</td>\n",
              "      <td>0.78504</td>\n",
              "      <td>0.16027</td>\n",
              "      <td>0.38327</td>\n",
              "      <td>0.62672</td>\n",
              "      <td>-0.017462</td>\n",
              "      <td>-0.36443</td>\n",
              "      <td>0.062441</td>\n",
              "      <td>0.039266</td>\n",
              "      <td>-0.47318</td>\n",
              "      <td>0.547680</td>\n",
              "      <td>0.42916</td>\n",
              "      <td>-0.25516</td>\n",
              "      <td>0.100900</td>\n",
              "      <td>0.041618</td>\n",
              "      <td>-0.14579</td>\n",
              "      <td>0.15174</td>\n",
              "      <td>-0.54301</td>\n",
              "      <td>-0.29787</td>\n",
              "      <td>0.36268</td>\n",
              "      <td>0.89550</td>\n",
              "      <td>0.65319</td>\n",
              "      <td>0.40141</td>\n",
              "      <td>0.03668</td>\n",
              "      <td>-0.34313</td>\n",
              "      <td>-0.102040</td>\n",
              "      <td>-0.19383</td>\n",
              "      <td>...</td>\n",
              "      <td>0.65085</td>\n",
              "      <td>0.97366</td>\n",
              "      <td>0.36997</td>\n",
              "      <td>-0.58266</td>\n",
              "      <td>0.58389</td>\n",
              "      <td>-0.62574</td>\n",
              "      <td>-0.24252</td>\n",
              "      <td>1.37500</td>\n",
              "      <td>-0.042651</td>\n",
              "      <td>0.16398</td>\n",
              "      <td>-0.53462</td>\n",
              "      <td>0.552750</td>\n",
              "      <td>-0.58019</td>\n",
              "      <td>-0.78386</td>\n",
              "      <td>-0.18787</td>\n",
              "      <td>-0.20305</td>\n",
              "      <td>0.11506</td>\n",
              "      <td>-0.089296</td>\n",
              "      <td>-0.766080</td>\n",
              "      <td>0.04339</td>\n",
              "      <td>0.50251</td>\n",
              "      <td>0.73799</td>\n",
              "      <td>0.23388</td>\n",
              "      <td>0.200380</td>\n",
              "      <td>-0.93906</td>\n",
              "      <td>-0.33974</td>\n",
              "      <td>-0.56534</td>\n",
              "      <td>-0.95945</td>\n",
              "      <td>-0.14597</td>\n",
              "      <td>-0.35173</td>\n",
              "      <td>-0.40463</td>\n",
              "      <td>-0.32671</td>\n",
              "      <td>0.24982</td>\n",
              "      <td>-0.27804</td>\n",
              "      <td>-0.99877</td>\n",
              "      <td>-0.39367</td>\n",
              "      <td>-0.30087</td>\n",
              "      <td>-0.24623</td>\n",
              "      <td>0.006483</td>\n",
              "      <td>-0.21982</td>\n",
              "    </tr>\n",
              "    <tr>\n",
              "      <th>4</th>\n",
              "      <td>brothers</td>\n",
              "      <td>0.263889</td>\n",
              "      <td>8</td>\n",
              "      <td>5346</td>\n",
              "      <td>0.85968</td>\n",
              "      <td>-0.39038</td>\n",
              "      <td>-0.62678</td>\n",
              "      <td>-0.55279</td>\n",
              "      <td>0.097012</td>\n",
              "      <td>0.00658</td>\n",
              "      <td>-0.65021</td>\n",
              "      <td>-0.58272</td>\n",
              "      <td>-1.27630</td>\n",
              "      <td>0.11251</td>\n",
              "      <td>0.78504</td>\n",
              "      <td>0.16027</td>\n",
              "      <td>0.38327</td>\n",
              "      <td>0.62672</td>\n",
              "      <td>-0.017462</td>\n",
              "      <td>-0.36443</td>\n",
              "      <td>0.062441</td>\n",
              "      <td>0.039266</td>\n",
              "      <td>-0.47318</td>\n",
              "      <td>0.547680</td>\n",
              "      <td>0.42916</td>\n",
              "      <td>-0.25516</td>\n",
              "      <td>0.100900</td>\n",
              "      <td>0.041618</td>\n",
              "      <td>-0.14579</td>\n",
              "      <td>0.15174</td>\n",
              "      <td>-0.54301</td>\n",
              "      <td>-0.29787</td>\n",
              "      <td>0.36268</td>\n",
              "      <td>0.89550</td>\n",
              "      <td>0.65319</td>\n",
              "      <td>0.40141</td>\n",
              "      <td>0.03668</td>\n",
              "      <td>-0.34313</td>\n",
              "      <td>-0.102040</td>\n",
              "      <td>-0.19383</td>\n",
              "      <td>...</td>\n",
              "      <td>0.65085</td>\n",
              "      <td>0.97366</td>\n",
              "      <td>0.36997</td>\n",
              "      <td>-0.58266</td>\n",
              "      <td>0.58389</td>\n",
              "      <td>-0.62574</td>\n",
              "      <td>-0.24252</td>\n",
              "      <td>1.37500</td>\n",
              "      <td>-0.042651</td>\n",
              "      <td>0.16398</td>\n",
              "      <td>-0.53462</td>\n",
              "      <td>0.552750</td>\n",
              "      <td>-0.58019</td>\n",
              "      <td>-0.78386</td>\n",
              "      <td>-0.18787</td>\n",
              "      <td>-0.20305</td>\n",
              "      <td>0.11506</td>\n",
              "      <td>-0.089296</td>\n",
              "      <td>-0.766080</td>\n",
              "      <td>0.04339</td>\n",
              "      <td>0.50251</td>\n",
              "      <td>0.73799</td>\n",
              "      <td>0.23388</td>\n",
              "      <td>0.200380</td>\n",
              "      <td>-0.93906</td>\n",
              "      <td>-0.33974</td>\n",
              "      <td>-0.56534</td>\n",
              "      <td>-0.95945</td>\n",
              "      <td>-0.14597</td>\n",
              "      <td>-0.35173</td>\n",
              "      <td>-0.40463</td>\n",
              "      <td>-0.32671</td>\n",
              "      <td>0.24982</td>\n",
              "      <td>-0.27804</td>\n",
              "      <td>-0.99877</td>\n",
              "      <td>-0.39367</td>\n",
              "      <td>-0.30087</td>\n",
              "      <td>-0.24623</td>\n",
              "      <td>0.006483</td>\n",
              "      <td>-0.21982</td>\n",
              "    </tr>\n",
              "  </tbody>\n",
              "</table>\n",
              "<p>5 rows × 104 columns</p>\n",
              "</div>"
            ],
            "text/plain": [
              "      token  complexity  word_length  ...       97        98       99\n",
              "0     river    0.000000            5  ... -0.69940  1.050600  0.24051\n",
              "1  brothers    0.000000            8  ... -0.24623  0.006483 -0.21982\n",
              "2  brothers    0.050000            8  ... -0.24623  0.006483 -0.21982\n",
              "3  brothers    0.150000            8  ... -0.24623  0.006483 -0.21982\n",
              "4  brothers    0.263889            8  ... -0.24623  0.006483 -0.21982\n",
              "\n",
              "[5 rows x 104 columns]"
            ]
          },
          "metadata": {
            "tags": []
          },
          "execution_count": 34
        }
      ]
    },
    {
      "cell_type": "markdown",
      "metadata": {
        "id": "2K6c1avIRYnE"
      },
      "source": [
        "### train model"
      ]
    },
    {
      "cell_type": "code",
      "metadata": {
        "id": "6CoI5zn0RaKT"
      },
      "source": [
        "import sklearn\n",
        "from sklearn.linear_model import LinearRegression\n",
        "from sklearn.model_selection import StratifiedKFold"
      ],
      "execution_count": 140,
      "outputs": []
    },
    {
      "cell_type": "code",
      "metadata": {
        "id": "AZeMw85oRDvU"
      },
      "source": [
        "# get data for training\n",
        "X_train = train_df_combined.drop(columns=['token', 'complexity'])\n",
        "Y_train = train_df_combined['complexity']"
      ],
      "execution_count": null,
      "outputs": []
    },
    {
      "cell_type": "code",
      "metadata": {
        "id": "NFg8QFoZRPkD"
      },
      "source": [
        "# train linear regression\n",
        "lr = LinearRegression().fit(X_train, Y_train)"
      ],
      "execution_count": null,
      "outputs": []
    },
    {
      "cell_type": "code",
      "metadata": {
        "id": "W7Jjq7LeRQzJ"
      },
      "source": [
        "# predict\n",
        "Y_pred = lr.predict(X_train)"
      ],
      "execution_count": null,
      "outputs": []
    },
    {
      "cell_type": "code",
      "metadata": {
        "colab": {
          "base_uri": "https://localhost:8080/"
        },
        "id": "0KU3faEPRb7D",
        "outputId": "3a454919-abee-4d9b-8bc2-835ae17c5440"
      },
      "source": [
        "# train loss (average absolute loss)\n",
        "num = len(Y_pred)\n",
        "losses = []\n",
        "for i in range(num):\n",
        "  loss = abs(Y_pred[i] - Y_train[i])\n",
        "  losses.append(loss)\n",
        "abl = sum(losses) / num\n",
        "print(\"average training absolute loss is \" + str(abl))"
      ],
      "execution_count": null,
      "outputs": [
        {
          "output_type": "stream",
          "text": [
            "average training absolute loss is 0.06970450197025566\n"
          ],
          "name": "stdout"
        }
      ]
    },
    {
      "cell_type": "markdown",
      "metadata": {
        "id": "iTUih5bXT0tZ"
      },
      "source": [
        "### test"
      ]
    },
    {
      "cell_type": "code",
      "metadata": {
        "colab": {
          "base_uri": "https://localhost:8080/"
        },
        "id": "hqCUgfS3RhVk",
        "outputId": "1da8c97b-f349-49a2-be24-1bef1b61eaef"
      },
      "source": [
        "# on test\n",
        "test_tokens = test[test['corpus']=='bible']['token'].dropna().to_list()\n",
        "test_tokens = [token.lower() for token in test_tokens] # lowercase\n",
        "print(len(test_tokens))\n",
        "\n",
        "# create a dataframe for linear regression\n",
        "test_df = pd.DataFrame(test_tokens, columns =['token'])\n",
        "\n",
        "test_df['complexity'] = test['complexity']\n",
        "\n",
        "# word length\n",
        "test_df['word_length'] = test_df['token'].map(lambda x: len(x))\n",
        "test_df['word_frequency'] = test_df['token'].map(lambda x: bible_counter[x])"
      ],
      "execution_count": null,
      "outputs": [
        {
          "output_type": "stream",
          "text": [
            "283\n"
          ],
          "name": "stdout"
        }
      ]
    },
    {
      "cell_type": "code",
      "metadata": {
        "colab": {
          "base_uri": "https://localhost:8080/",
          "height": 204
        },
        "id": "kbS7OMOGVQZ_",
        "outputId": "7da57b00-919f-46ae-ef72-ae39dd58aa2a"
      },
      "source": [
        "test_df.head()"
      ],
      "execution_count": null,
      "outputs": [
        {
          "output_type": "execute_result",
          "data": {
            "text/html": [
              "<div>\n",
              "<style scoped>\n",
              "    .dataframe tbody tr th:only-of-type {\n",
              "        vertical-align: middle;\n",
              "    }\n",
              "\n",
              "    .dataframe tbody tr th {\n",
              "        vertical-align: top;\n",
              "    }\n",
              "\n",
              "    .dataframe thead th {\n",
              "        text-align: right;\n",
              "    }\n",
              "</style>\n",
              "<table border=\"1\" class=\"dataframe\">\n",
              "  <thead>\n",
              "    <tr style=\"text-align: right;\">\n",
              "      <th></th>\n",
              "      <th>token</th>\n",
              "      <th>complexity</th>\n",
              "      <th>word_length</th>\n",
              "      <th>word_frequency</th>\n",
              "    </tr>\n",
              "  </thead>\n",
              "  <tbody>\n",
              "    <tr>\n",
              "      <th>0</th>\n",
              "      <td>hand</td>\n",
              "      <td>0.000000</td>\n",
              "      <td>4</td>\n",
              "      <td>5940</td>\n",
              "    </tr>\n",
              "    <tr>\n",
              "      <th>1</th>\n",
              "      <td>hand</td>\n",
              "      <td>0.197368</td>\n",
              "      <td>4</td>\n",
              "      <td>5940</td>\n",
              "    </tr>\n",
              "    <tr>\n",
              "      <th>2</th>\n",
              "      <td>hand</td>\n",
              "      <td>0.200000</td>\n",
              "      <td>4</td>\n",
              "      <td>5940</td>\n",
              "    </tr>\n",
              "    <tr>\n",
              "      <th>3</th>\n",
              "      <td>hand</td>\n",
              "      <td>0.267857</td>\n",
              "      <td>4</td>\n",
              "      <td>5940</td>\n",
              "    </tr>\n",
              "    <tr>\n",
              "      <th>4</th>\n",
              "      <td>entrance</td>\n",
              "      <td>0.000000</td>\n",
              "      <td>8</td>\n",
              "      <td>0</td>\n",
              "    </tr>\n",
              "  </tbody>\n",
              "</table>\n",
              "</div>"
            ],
            "text/plain": [
              "      token  complexity  word_length  word_frequency\n",
              "0      hand    0.000000            4            5940\n",
              "1      hand    0.197368            4            5940\n",
              "2      hand    0.200000            4            5940\n",
              "3      hand    0.267857            4            5940\n",
              "4  entrance    0.000000            8               0"
            ]
          },
          "metadata": {
            "tags": []
          },
          "execution_count": 54
        }
      ]
    },
    {
      "cell_type": "code",
      "metadata": {
        "colab": {
          "base_uri": "https://localhost:8080/",
          "height": 270
        },
        "id": "HxDI53veVY07",
        "outputId": "e4d19dd7-4c9b-459a-cc90-b66f15406344"
      },
      "source": [
        "# create the weight matrix\n",
        "weight_matrix = create_weights_matrix(test_tokens)\n",
        "print(weight_matrix.shape)\n",
        "\n",
        "# combine\n",
        "weight_matrix_df = pd.DataFrame(weight_matrix)\n",
        "test_df_combined = pd.concat([test_df, weight_matrix_df], axis=1)\n",
        "test_df_combined.head()"
      ],
      "execution_count": null,
      "outputs": [
        {
          "output_type": "stream",
          "text": [
            "(283, 100)\n"
          ],
          "name": "stdout"
        },
        {
          "output_type": "execute_result",
          "data": {
            "text/html": [
              "<div>\n",
              "<style scoped>\n",
              "    .dataframe tbody tr th:only-of-type {\n",
              "        vertical-align: middle;\n",
              "    }\n",
              "\n",
              "    .dataframe tbody tr th {\n",
              "        vertical-align: top;\n",
              "    }\n",
              "\n",
              "    .dataframe thead th {\n",
              "        text-align: right;\n",
              "    }\n",
              "</style>\n",
              "<table border=\"1\" class=\"dataframe\">\n",
              "  <thead>\n",
              "    <tr style=\"text-align: right;\">\n",
              "      <th></th>\n",
              "      <th>token</th>\n",
              "      <th>complexity</th>\n",
              "      <th>word_length</th>\n",
              "      <th>word_frequency</th>\n",
              "      <th>0</th>\n",
              "      <th>1</th>\n",
              "      <th>2</th>\n",
              "      <th>3</th>\n",
              "      <th>4</th>\n",
              "      <th>5</th>\n",
              "      <th>6</th>\n",
              "      <th>7</th>\n",
              "      <th>8</th>\n",
              "      <th>9</th>\n",
              "      <th>10</th>\n",
              "      <th>11</th>\n",
              "      <th>12</th>\n",
              "      <th>13</th>\n",
              "      <th>14</th>\n",
              "      <th>15</th>\n",
              "      <th>16</th>\n",
              "      <th>17</th>\n",
              "      <th>18</th>\n",
              "      <th>19</th>\n",
              "      <th>20</th>\n",
              "      <th>21</th>\n",
              "      <th>22</th>\n",
              "      <th>23</th>\n",
              "      <th>24</th>\n",
              "      <th>25</th>\n",
              "      <th>26</th>\n",
              "      <th>27</th>\n",
              "      <th>28</th>\n",
              "      <th>29</th>\n",
              "      <th>30</th>\n",
              "      <th>31</th>\n",
              "      <th>32</th>\n",
              "      <th>33</th>\n",
              "      <th>34</th>\n",
              "      <th>35</th>\n",
              "      <th>...</th>\n",
              "      <th>60</th>\n",
              "      <th>61</th>\n",
              "      <th>62</th>\n",
              "      <th>63</th>\n",
              "      <th>64</th>\n",
              "      <th>65</th>\n",
              "      <th>66</th>\n",
              "      <th>67</th>\n",
              "      <th>68</th>\n",
              "      <th>69</th>\n",
              "      <th>70</th>\n",
              "      <th>71</th>\n",
              "      <th>72</th>\n",
              "      <th>73</th>\n",
              "      <th>74</th>\n",
              "      <th>75</th>\n",
              "      <th>76</th>\n",
              "      <th>77</th>\n",
              "      <th>78</th>\n",
              "      <th>79</th>\n",
              "      <th>80</th>\n",
              "      <th>81</th>\n",
              "      <th>82</th>\n",
              "      <th>83</th>\n",
              "      <th>84</th>\n",
              "      <th>85</th>\n",
              "      <th>86</th>\n",
              "      <th>87</th>\n",
              "      <th>88</th>\n",
              "      <th>89</th>\n",
              "      <th>90</th>\n",
              "      <th>91</th>\n",
              "      <th>92</th>\n",
              "      <th>93</th>\n",
              "      <th>94</th>\n",
              "      <th>95</th>\n",
              "      <th>96</th>\n",
              "      <th>97</th>\n",
              "      <th>98</th>\n",
              "      <th>99</th>\n",
              "    </tr>\n",
              "  </thead>\n",
              "  <tbody>\n",
              "    <tr>\n",
              "      <th>0</th>\n",
              "      <td>hand</td>\n",
              "      <td>0.000000</td>\n",
              "      <td>4</td>\n",
              "      <td>5940</td>\n",
              "      <td>-0.24945</td>\n",
              "      <td>0.37033</td>\n",
              "      <td>-0.058334</td>\n",
              "      <td>-0.25367</td>\n",
              "      <td>0.18709</td>\n",
              "      <td>0.81760</td>\n",
              "      <td>-0.045494</td>\n",
              "      <td>0.072066</td>\n",
              "      <td>-0.059079</td>\n",
              "      <td>-0.053018</td>\n",
              "      <td>-0.15681</td>\n",
              "      <td>-0.18621</td>\n",
              "      <td>0.786770</td>\n",
              "      <td>0.56263</td>\n",
              "      <td>0.023693</td>\n",
              "      <td>0.241160</td>\n",
              "      <td>0.034775</td>\n",
              "      <td>0.117630</td>\n",
              "      <td>-0.15757</td>\n",
              "      <td>-0.39749</td>\n",
              "      <td>0.210680</td>\n",
              "      <td>-0.14618</td>\n",
              "      <td>0.014017</td>\n",
              "      <td>-0.22373</td>\n",
              "      <td>0.54225</td>\n",
              "      <td>0.47379</td>\n",
              "      <td>-0.62683</td>\n",
              "      <td>-0.38803</td>\n",
              "      <td>0.27510</td>\n",
              "      <td>-0.54687</td>\n",
              "      <td>0.49211</td>\n",
              "      <td>0.052715</td>\n",
              "      <td>-0.12911</td>\n",
              "      <td>0.2554</td>\n",
              "      <td>-0.005657</td>\n",
              "      <td>-0.194310</td>\n",
              "      <td>...</td>\n",
              "      <td>0.64518</td>\n",
              "      <td>0.76559</td>\n",
              "      <td>-0.22193</td>\n",
              "      <td>0.39305</td>\n",
              "      <td>0.13373</td>\n",
              "      <td>-0.17641</td>\n",
              "      <td>0.36222</td>\n",
              "      <td>0.47786</td>\n",
              "      <td>-0.43591</td>\n",
              "      <td>-0.13363</td>\n",
              "      <td>-0.13145</td>\n",
              "      <td>0.206730</td>\n",
              "      <td>0.37353</td>\n",
              "      <td>-0.70188</td>\n",
              "      <td>0.53225</td>\n",
              "      <td>0.103710</td>\n",
              "      <td>-0.70940</td>\n",
              "      <td>0.24331</td>\n",
              "      <td>-0.15523</td>\n",
              "      <td>0.20785</td>\n",
              "      <td>1.19970</td>\n",
              "      <td>-0.036297</td>\n",
              "      <td>-0.79044</td>\n",
              "      <td>-0.27794</td>\n",
              "      <td>-1.40760</td>\n",
              "      <td>-0.363180</td>\n",
              "      <td>0.40219</td>\n",
              "      <td>0.17401</td>\n",
              "      <td>-0.080981</td>\n",
              "      <td>-0.40688</td>\n",
              "      <td>-0.044007</td>\n",
              "      <td>-0.14964</td>\n",
              "      <td>0.39369</td>\n",
              "      <td>-0.014732</td>\n",
              "      <td>-0.41309</td>\n",
              "      <td>-0.061931</td>\n",
              "      <td>-0.088387</td>\n",
              "      <td>-0.230930</td>\n",
              "      <td>0.93931</td>\n",
              "      <td>0.091475</td>\n",
              "    </tr>\n",
              "    <tr>\n",
              "      <th>1</th>\n",
              "      <td>hand</td>\n",
              "      <td>0.197368</td>\n",
              "      <td>4</td>\n",
              "      <td>5940</td>\n",
              "      <td>-0.24945</td>\n",
              "      <td>0.37033</td>\n",
              "      <td>-0.058334</td>\n",
              "      <td>-0.25367</td>\n",
              "      <td>0.18709</td>\n",
              "      <td>0.81760</td>\n",
              "      <td>-0.045494</td>\n",
              "      <td>0.072066</td>\n",
              "      <td>-0.059079</td>\n",
              "      <td>-0.053018</td>\n",
              "      <td>-0.15681</td>\n",
              "      <td>-0.18621</td>\n",
              "      <td>0.786770</td>\n",
              "      <td>0.56263</td>\n",
              "      <td>0.023693</td>\n",
              "      <td>0.241160</td>\n",
              "      <td>0.034775</td>\n",
              "      <td>0.117630</td>\n",
              "      <td>-0.15757</td>\n",
              "      <td>-0.39749</td>\n",
              "      <td>0.210680</td>\n",
              "      <td>-0.14618</td>\n",
              "      <td>0.014017</td>\n",
              "      <td>-0.22373</td>\n",
              "      <td>0.54225</td>\n",
              "      <td>0.47379</td>\n",
              "      <td>-0.62683</td>\n",
              "      <td>-0.38803</td>\n",
              "      <td>0.27510</td>\n",
              "      <td>-0.54687</td>\n",
              "      <td>0.49211</td>\n",
              "      <td>0.052715</td>\n",
              "      <td>-0.12911</td>\n",
              "      <td>0.2554</td>\n",
              "      <td>-0.005657</td>\n",
              "      <td>-0.194310</td>\n",
              "      <td>...</td>\n",
              "      <td>0.64518</td>\n",
              "      <td>0.76559</td>\n",
              "      <td>-0.22193</td>\n",
              "      <td>0.39305</td>\n",
              "      <td>0.13373</td>\n",
              "      <td>-0.17641</td>\n",
              "      <td>0.36222</td>\n",
              "      <td>0.47786</td>\n",
              "      <td>-0.43591</td>\n",
              "      <td>-0.13363</td>\n",
              "      <td>-0.13145</td>\n",
              "      <td>0.206730</td>\n",
              "      <td>0.37353</td>\n",
              "      <td>-0.70188</td>\n",
              "      <td>0.53225</td>\n",
              "      <td>0.103710</td>\n",
              "      <td>-0.70940</td>\n",
              "      <td>0.24331</td>\n",
              "      <td>-0.15523</td>\n",
              "      <td>0.20785</td>\n",
              "      <td>1.19970</td>\n",
              "      <td>-0.036297</td>\n",
              "      <td>-0.79044</td>\n",
              "      <td>-0.27794</td>\n",
              "      <td>-1.40760</td>\n",
              "      <td>-0.363180</td>\n",
              "      <td>0.40219</td>\n",
              "      <td>0.17401</td>\n",
              "      <td>-0.080981</td>\n",
              "      <td>-0.40688</td>\n",
              "      <td>-0.044007</td>\n",
              "      <td>-0.14964</td>\n",
              "      <td>0.39369</td>\n",
              "      <td>-0.014732</td>\n",
              "      <td>-0.41309</td>\n",
              "      <td>-0.061931</td>\n",
              "      <td>-0.088387</td>\n",
              "      <td>-0.230930</td>\n",
              "      <td>0.93931</td>\n",
              "      <td>0.091475</td>\n",
              "    </tr>\n",
              "    <tr>\n",
              "      <th>2</th>\n",
              "      <td>hand</td>\n",
              "      <td>0.200000</td>\n",
              "      <td>4</td>\n",
              "      <td>5940</td>\n",
              "      <td>-0.24945</td>\n",
              "      <td>0.37033</td>\n",
              "      <td>-0.058334</td>\n",
              "      <td>-0.25367</td>\n",
              "      <td>0.18709</td>\n",
              "      <td>0.81760</td>\n",
              "      <td>-0.045494</td>\n",
              "      <td>0.072066</td>\n",
              "      <td>-0.059079</td>\n",
              "      <td>-0.053018</td>\n",
              "      <td>-0.15681</td>\n",
              "      <td>-0.18621</td>\n",
              "      <td>0.786770</td>\n",
              "      <td>0.56263</td>\n",
              "      <td>0.023693</td>\n",
              "      <td>0.241160</td>\n",
              "      <td>0.034775</td>\n",
              "      <td>0.117630</td>\n",
              "      <td>-0.15757</td>\n",
              "      <td>-0.39749</td>\n",
              "      <td>0.210680</td>\n",
              "      <td>-0.14618</td>\n",
              "      <td>0.014017</td>\n",
              "      <td>-0.22373</td>\n",
              "      <td>0.54225</td>\n",
              "      <td>0.47379</td>\n",
              "      <td>-0.62683</td>\n",
              "      <td>-0.38803</td>\n",
              "      <td>0.27510</td>\n",
              "      <td>-0.54687</td>\n",
              "      <td>0.49211</td>\n",
              "      <td>0.052715</td>\n",
              "      <td>-0.12911</td>\n",
              "      <td>0.2554</td>\n",
              "      <td>-0.005657</td>\n",
              "      <td>-0.194310</td>\n",
              "      <td>...</td>\n",
              "      <td>0.64518</td>\n",
              "      <td>0.76559</td>\n",
              "      <td>-0.22193</td>\n",
              "      <td>0.39305</td>\n",
              "      <td>0.13373</td>\n",
              "      <td>-0.17641</td>\n",
              "      <td>0.36222</td>\n",
              "      <td>0.47786</td>\n",
              "      <td>-0.43591</td>\n",
              "      <td>-0.13363</td>\n",
              "      <td>-0.13145</td>\n",
              "      <td>0.206730</td>\n",
              "      <td>0.37353</td>\n",
              "      <td>-0.70188</td>\n",
              "      <td>0.53225</td>\n",
              "      <td>0.103710</td>\n",
              "      <td>-0.70940</td>\n",
              "      <td>0.24331</td>\n",
              "      <td>-0.15523</td>\n",
              "      <td>0.20785</td>\n",
              "      <td>1.19970</td>\n",
              "      <td>-0.036297</td>\n",
              "      <td>-0.79044</td>\n",
              "      <td>-0.27794</td>\n",
              "      <td>-1.40760</td>\n",
              "      <td>-0.363180</td>\n",
              "      <td>0.40219</td>\n",
              "      <td>0.17401</td>\n",
              "      <td>-0.080981</td>\n",
              "      <td>-0.40688</td>\n",
              "      <td>-0.044007</td>\n",
              "      <td>-0.14964</td>\n",
              "      <td>0.39369</td>\n",
              "      <td>-0.014732</td>\n",
              "      <td>-0.41309</td>\n",
              "      <td>-0.061931</td>\n",
              "      <td>-0.088387</td>\n",
              "      <td>-0.230930</td>\n",
              "      <td>0.93931</td>\n",
              "      <td>0.091475</td>\n",
              "    </tr>\n",
              "    <tr>\n",
              "      <th>3</th>\n",
              "      <td>hand</td>\n",
              "      <td>0.267857</td>\n",
              "      <td>4</td>\n",
              "      <td>5940</td>\n",
              "      <td>-0.24945</td>\n",
              "      <td>0.37033</td>\n",
              "      <td>-0.058334</td>\n",
              "      <td>-0.25367</td>\n",
              "      <td>0.18709</td>\n",
              "      <td>0.81760</td>\n",
              "      <td>-0.045494</td>\n",
              "      <td>0.072066</td>\n",
              "      <td>-0.059079</td>\n",
              "      <td>-0.053018</td>\n",
              "      <td>-0.15681</td>\n",
              "      <td>-0.18621</td>\n",
              "      <td>0.786770</td>\n",
              "      <td>0.56263</td>\n",
              "      <td>0.023693</td>\n",
              "      <td>0.241160</td>\n",
              "      <td>0.034775</td>\n",
              "      <td>0.117630</td>\n",
              "      <td>-0.15757</td>\n",
              "      <td>-0.39749</td>\n",
              "      <td>0.210680</td>\n",
              "      <td>-0.14618</td>\n",
              "      <td>0.014017</td>\n",
              "      <td>-0.22373</td>\n",
              "      <td>0.54225</td>\n",
              "      <td>0.47379</td>\n",
              "      <td>-0.62683</td>\n",
              "      <td>-0.38803</td>\n",
              "      <td>0.27510</td>\n",
              "      <td>-0.54687</td>\n",
              "      <td>0.49211</td>\n",
              "      <td>0.052715</td>\n",
              "      <td>-0.12911</td>\n",
              "      <td>0.2554</td>\n",
              "      <td>-0.005657</td>\n",
              "      <td>-0.194310</td>\n",
              "      <td>...</td>\n",
              "      <td>0.64518</td>\n",
              "      <td>0.76559</td>\n",
              "      <td>-0.22193</td>\n",
              "      <td>0.39305</td>\n",
              "      <td>0.13373</td>\n",
              "      <td>-0.17641</td>\n",
              "      <td>0.36222</td>\n",
              "      <td>0.47786</td>\n",
              "      <td>-0.43591</td>\n",
              "      <td>-0.13363</td>\n",
              "      <td>-0.13145</td>\n",
              "      <td>0.206730</td>\n",
              "      <td>0.37353</td>\n",
              "      <td>-0.70188</td>\n",
              "      <td>0.53225</td>\n",
              "      <td>0.103710</td>\n",
              "      <td>-0.70940</td>\n",
              "      <td>0.24331</td>\n",
              "      <td>-0.15523</td>\n",
              "      <td>0.20785</td>\n",
              "      <td>1.19970</td>\n",
              "      <td>-0.036297</td>\n",
              "      <td>-0.79044</td>\n",
              "      <td>-0.27794</td>\n",
              "      <td>-1.40760</td>\n",
              "      <td>-0.363180</td>\n",
              "      <td>0.40219</td>\n",
              "      <td>0.17401</td>\n",
              "      <td>-0.080981</td>\n",
              "      <td>-0.40688</td>\n",
              "      <td>-0.044007</td>\n",
              "      <td>-0.14964</td>\n",
              "      <td>0.39369</td>\n",
              "      <td>-0.014732</td>\n",
              "      <td>-0.41309</td>\n",
              "      <td>-0.061931</td>\n",
              "      <td>-0.088387</td>\n",
              "      <td>-0.230930</td>\n",
              "      <td>0.93931</td>\n",
              "      <td>0.091475</td>\n",
              "    </tr>\n",
              "    <tr>\n",
              "      <th>4</th>\n",
              "      <td>entrance</td>\n",
              "      <td>0.000000</td>\n",
              "      <td>8</td>\n",
              "      <td>0</td>\n",
              "      <td>0.25776</td>\n",
              "      <td>0.10680</td>\n",
              "      <td>-0.162650</td>\n",
              "      <td>0.42335</td>\n",
              "      <td>0.19078</td>\n",
              "      <td>0.46283</td>\n",
              "      <td>-0.959150</td>\n",
              "      <td>0.931740</td>\n",
              "      <td>0.471610</td>\n",
              "      <td>0.390770</td>\n",
              "      <td>0.54734</td>\n",
              "      <td>0.41967</td>\n",
              "      <td>0.086822</td>\n",
              "      <td>0.53954</td>\n",
              "      <td>0.354970</td>\n",
              "      <td>-0.028346</td>\n",
              "      <td>0.427080</td>\n",
              "      <td>0.036569</td>\n",
              "      <td>-0.49700</td>\n",
              "      <td>-0.49543</td>\n",
              "      <td>-0.031232</td>\n",
              "      <td>-0.30298</td>\n",
              "      <td>-0.417180</td>\n",
              "      <td>-0.78459</td>\n",
              "      <td>0.70473</td>\n",
              "      <td>-0.59741</td>\n",
              "      <td>-0.33173</td>\n",
              "      <td>-0.38813</td>\n",
              "      <td>0.17189</td>\n",
              "      <td>-0.78565</td>\n",
              "      <td>-0.17219</td>\n",
              "      <td>-0.140190</td>\n",
              "      <td>0.61492</td>\n",
              "      <td>0.5713</td>\n",
              "      <td>0.751090</td>\n",
              "      <td>-0.015942</td>\n",
              "      <td>...</td>\n",
              "      <td>-0.60393</td>\n",
              "      <td>0.47454</td>\n",
              "      <td>0.80912</td>\n",
              "      <td>0.81709</td>\n",
              "      <td>-0.12876</td>\n",
              "      <td>-0.39310</td>\n",
              "      <td>0.17656</td>\n",
              "      <td>-0.29797</td>\n",
              "      <td>-0.32614</td>\n",
              "      <td>-0.26522</td>\n",
              "      <td>-0.37006</td>\n",
              "      <td>-0.016956</td>\n",
              "      <td>0.92268</td>\n",
              "      <td>-0.71606</td>\n",
              "      <td>-0.38524</td>\n",
              "      <td>-0.085737</td>\n",
              "      <td>0.68111</td>\n",
              "      <td>0.32080</td>\n",
              "      <td>0.45870</td>\n",
              "      <td>-0.82737</td>\n",
              "      <td>0.22932</td>\n",
              "      <td>0.314500</td>\n",
              "      <td>-0.21221</td>\n",
              "      <td>-0.65293</td>\n",
              "      <td>-0.31427</td>\n",
              "      <td>-0.037493</td>\n",
              "      <td>0.16126</td>\n",
              "      <td>-0.46719</td>\n",
              "      <td>0.630660</td>\n",
              "      <td>0.26426</td>\n",
              "      <td>0.527780</td>\n",
              "      <td>-0.34505</td>\n",
              "      <td>0.06620</td>\n",
              "      <td>0.722400</td>\n",
              "      <td>-0.11057</td>\n",
              "      <td>-0.005771</td>\n",
              "      <td>-0.059336</td>\n",
              "      <td>0.013272</td>\n",
              "      <td>0.97305</td>\n",
              "      <td>0.454050</td>\n",
              "    </tr>\n",
              "  </tbody>\n",
              "</table>\n",
              "<p>5 rows × 104 columns</p>\n",
              "</div>"
            ],
            "text/plain": [
              "      token  complexity  word_length  ...        97       98        99\n",
              "0      hand    0.000000            4  ... -0.230930  0.93931  0.091475\n",
              "1      hand    0.197368            4  ... -0.230930  0.93931  0.091475\n",
              "2      hand    0.200000            4  ... -0.230930  0.93931  0.091475\n",
              "3      hand    0.267857            4  ... -0.230930  0.93931  0.091475\n",
              "4  entrance    0.000000            8  ...  0.013272  0.97305  0.454050\n",
              "\n",
              "[5 rows x 104 columns]"
            ]
          },
          "metadata": {
            "tags": []
          },
          "execution_count": 55
        }
      ]
    },
    {
      "cell_type": "code",
      "metadata": {
        "colab": {
          "base_uri": "https://localhost:8080/"
        },
        "id": "JnpyvdPRVl3g",
        "outputId": "2994bcbb-15a6-444f-819a-0d79a0f8458f"
      },
      "source": [
        "# get data for test\n",
        "X_test = test_df_combined.drop(columns=['token', 'complexity'])\n",
        "Y_test = test_df_combined['complexity']\n",
        "\n",
        "# predict\n",
        "Y_pred = lr.predict(X_test)\n",
        "\n",
        "# test loss (average absolute loss)\n",
        "num = len(Y_pred)\n",
        "losses = []\n",
        "for i in range(num):\n",
        "  loss = abs(Y_pred[i] - Y_test[i])\n",
        "  losses.append(loss)\n",
        "abl = sum(losses) / num\n",
        "print(\"average test absolute loss is \" + str(abl))"
      ],
      "execution_count": null,
      "outputs": [
        {
          "output_type": "stream",
          "text": [
            "average test absolute loss is 0.07546507119733206\n"
          ],
          "name": "stdout"
        }
      ]
    },
    {
      "cell_type": "markdown",
      "metadata": {
        "id": "YR82lzNZtih4"
      },
      "source": [
        "## 2.2 Linear regression with ELMo word embedding"
      ]
    },
    {
      "cell_type": "code",
      "metadata": {
        "colab": {
          "base_uri": "https://localhost:8080/"
        },
        "id": "Ipoa44JPwkRL",
        "outputId": "d8a40ff7-5717-455c-8fbb-9495e5be7e22"
      },
      "source": [
        "len(elmo_embedded_word)"
      ],
      "execution_count": 271,
      "outputs": [
        {
          "output_type": "execute_result",
          "data": {
            "text/plain": [
              "2400"
            ]
          },
          "metadata": {
            "tags": []
          },
          "execution_count": 271
        }
      ]
    },
    {
      "cell_type": "code",
      "metadata": {
        "id": "dL5O8mlp2-DM"
      },
      "source": [
        "elmo_bible_df = bible_df.iloc[:len(elmo_embedded_word)]"
      ],
      "execution_count": 272,
      "outputs": []
    },
    {
      "cell_type": "code",
      "metadata": {
        "colab": {
          "base_uri": "https://localhost:8080/"
        },
        "id": "ynCh4gnu3tLk",
        "outputId": "e30683e2-d489-4112-e99f-4fc6aef0f85d"
      },
      "source": [
        "len(elmo_bible_df)"
      ],
      "execution_count": 273,
      "outputs": [
        {
          "output_type": "execute_result",
          "data": {
            "text/plain": [
              "2400"
            ]
          },
          "metadata": {
            "tags": []
          },
          "execution_count": 273
        }
      ]
    },
    {
      "cell_type": "code",
      "metadata": {
        "id": "KVmph4NQuAaP"
      },
      "source": [
        "elmo_embedded_df = pd.DataFrame(elmo_embedded_word)"
      ],
      "execution_count": 274,
      "outputs": []
    },
    {
      "cell_type": "code",
      "metadata": {
        "colab": {
          "base_uri": "https://localhost:8080/",
          "height": 253
        },
        "id": "yqBPZsIVuI7Z",
        "outputId": "1a751ef1-19f2-4139-d46d-123f0603597a"
      },
      "source": [
        "elmo_embedded_df.head()"
      ],
      "execution_count": 275,
      "outputs": [
        {
          "output_type": "execute_result",
          "data": {
            "text/html": [
              "<div>\n",
              "<style scoped>\n",
              "    .dataframe tbody tr th:only-of-type {\n",
              "        vertical-align: middle;\n",
              "    }\n",
              "\n",
              "    .dataframe tbody tr th {\n",
              "        vertical-align: top;\n",
              "    }\n",
              "\n",
              "    .dataframe thead th {\n",
              "        text-align: right;\n",
              "    }\n",
              "</style>\n",
              "<table border=\"1\" class=\"dataframe\">\n",
              "  <thead>\n",
              "    <tr style=\"text-align: right;\">\n",
              "      <th></th>\n",
              "      <th>0</th>\n",
              "      <th>1</th>\n",
              "      <th>2</th>\n",
              "      <th>3</th>\n",
              "      <th>4</th>\n",
              "      <th>5</th>\n",
              "      <th>6</th>\n",
              "      <th>7</th>\n",
              "      <th>8</th>\n",
              "      <th>9</th>\n",
              "      <th>10</th>\n",
              "      <th>11</th>\n",
              "      <th>12</th>\n",
              "      <th>13</th>\n",
              "      <th>14</th>\n",
              "      <th>15</th>\n",
              "      <th>16</th>\n",
              "      <th>17</th>\n",
              "      <th>18</th>\n",
              "      <th>19</th>\n",
              "      <th>20</th>\n",
              "      <th>21</th>\n",
              "      <th>22</th>\n",
              "      <th>23</th>\n",
              "      <th>24</th>\n",
              "      <th>25</th>\n",
              "      <th>26</th>\n",
              "      <th>27</th>\n",
              "      <th>28</th>\n",
              "      <th>29</th>\n",
              "      <th>30</th>\n",
              "      <th>31</th>\n",
              "      <th>32</th>\n",
              "      <th>33</th>\n",
              "      <th>34</th>\n",
              "      <th>35</th>\n",
              "      <th>36</th>\n",
              "      <th>37</th>\n",
              "      <th>38</th>\n",
              "      <th>39</th>\n",
              "      <th>...</th>\n",
              "      <th>984</th>\n",
              "      <th>985</th>\n",
              "      <th>986</th>\n",
              "      <th>987</th>\n",
              "      <th>988</th>\n",
              "      <th>989</th>\n",
              "      <th>990</th>\n",
              "      <th>991</th>\n",
              "      <th>992</th>\n",
              "      <th>993</th>\n",
              "      <th>994</th>\n",
              "      <th>995</th>\n",
              "      <th>996</th>\n",
              "      <th>997</th>\n",
              "      <th>998</th>\n",
              "      <th>999</th>\n",
              "      <th>1000</th>\n",
              "      <th>1001</th>\n",
              "      <th>1002</th>\n",
              "      <th>1003</th>\n",
              "      <th>1004</th>\n",
              "      <th>1005</th>\n",
              "      <th>1006</th>\n",
              "      <th>1007</th>\n",
              "      <th>1008</th>\n",
              "      <th>1009</th>\n",
              "      <th>1010</th>\n",
              "      <th>1011</th>\n",
              "      <th>1012</th>\n",
              "      <th>1013</th>\n",
              "      <th>1014</th>\n",
              "      <th>1015</th>\n",
              "      <th>1016</th>\n",
              "      <th>1017</th>\n",
              "      <th>1018</th>\n",
              "      <th>1019</th>\n",
              "      <th>1020</th>\n",
              "      <th>1021</th>\n",
              "      <th>1022</th>\n",
              "      <th>1023</th>\n",
              "    </tr>\n",
              "  </thead>\n",
              "  <tbody>\n",
              "    <tr>\n",
              "      <th>0</th>\n",
              "      <td>0.380389</td>\n",
              "      <td>-0.176156</td>\n",
              "      <td>-0.314543</td>\n",
              "      <td>-0.501822</td>\n",
              "      <td>-0.090818</td>\n",
              "      <td>0.105634</td>\n",
              "      <td>-0.251023</td>\n",
              "      <td>-0.066272</td>\n",
              "      <td>0.243032</td>\n",
              "      <td>-0.761172</td>\n",
              "      <td>-0.291393</td>\n",
              "      <td>0.064379</td>\n",
              "      <td>-0.453321</td>\n",
              "      <td>-0.423276</td>\n",
              "      <td>0.816208</td>\n",
              "      <td>-0.353879</td>\n",
              "      <td>0.408419</td>\n",
              "      <td>0.122126</td>\n",
              "      <td>0.496743</td>\n",
              "      <td>0.353603</td>\n",
              "      <td>-0.351386</td>\n",
              "      <td>-0.922783</td>\n",
              "      <td>-0.209045</td>\n",
              "      <td>-0.359489</td>\n",
              "      <td>0.711408</td>\n",
              "      <td>-0.171895</td>\n",
              "      <td>-0.333597</td>\n",
              "      <td>0.793782</td>\n",
              "      <td>-0.901847</td>\n",
              "      <td>0.509671</td>\n",
              "      <td>0.247244</td>\n",
              "      <td>0.280223</td>\n",
              "      <td>0.268059</td>\n",
              "      <td>-0.539888</td>\n",
              "      <td>-0.103087</td>\n",
              "      <td>0.291160</td>\n",
              "      <td>0.992129</td>\n",
              "      <td>0.264218</td>\n",
              "      <td>-0.224550</td>\n",
              "      <td>0.470073</td>\n",
              "      <td>...</td>\n",
              "      <td>0.257131</td>\n",
              "      <td>-1.014234</td>\n",
              "      <td>0.116351</td>\n",
              "      <td>0.884804</td>\n",
              "      <td>0.771221</td>\n",
              "      <td>-0.382885</td>\n",
              "      <td>-0.389934</td>\n",
              "      <td>-0.064094</td>\n",
              "      <td>0.188469</td>\n",
              "      <td>-0.252470</td>\n",
              "      <td>-0.016003</td>\n",
              "      <td>-0.283068</td>\n",
              "      <td>-0.100671</td>\n",
              "      <td>0.204860</td>\n",
              "      <td>0.546275</td>\n",
              "      <td>0.513434</td>\n",
              "      <td>0.094390</td>\n",
              "      <td>0.732664</td>\n",
              "      <td>-0.115683</td>\n",
              "      <td>0.189742</td>\n",
              "      <td>0.107118</td>\n",
              "      <td>0.150636</td>\n",
              "      <td>-0.038369</td>\n",
              "      <td>-0.243636</td>\n",
              "      <td>-0.724234</td>\n",
              "      <td>-0.076423</td>\n",
              "      <td>0.054118</td>\n",
              "      <td>0.113401</td>\n",
              "      <td>0.372316</td>\n",
              "      <td>0.303050</td>\n",
              "      <td>-0.009343</td>\n",
              "      <td>0.357153</td>\n",
              "      <td>0.287225</td>\n",
              "      <td>0.254209</td>\n",
              "      <td>-0.150872</td>\n",
              "      <td>-0.407083</td>\n",
              "      <td>-0.230057</td>\n",
              "      <td>0.821129</td>\n",
              "      <td>0.205928</td>\n",
              "      <td>0.648316</td>\n",
              "    </tr>\n",
              "    <tr>\n",
              "      <th>1</th>\n",
              "      <td>0.080406</td>\n",
              "      <td>-0.408230</td>\n",
              "      <td>0.158734</td>\n",
              "      <td>-0.079608</td>\n",
              "      <td>0.255208</td>\n",
              "      <td>-0.493177</td>\n",
              "      <td>0.061747</td>\n",
              "      <td>0.495774</td>\n",
              "      <td>0.457920</td>\n",
              "      <td>0.361132</td>\n",
              "      <td>-0.256218</td>\n",
              "      <td>0.261946</td>\n",
              "      <td>0.350431</td>\n",
              "      <td>0.180850</td>\n",
              "      <td>0.368660</td>\n",
              "      <td>0.222670</td>\n",
              "      <td>0.221042</td>\n",
              "      <td>0.007360</td>\n",
              "      <td>0.405470</td>\n",
              "      <td>-0.559290</td>\n",
              "      <td>-0.000919</td>\n",
              "      <td>-0.280063</td>\n",
              "      <td>-0.229275</td>\n",
              "      <td>0.055031</td>\n",
              "      <td>0.096481</td>\n",
              "      <td>-0.122666</td>\n",
              "      <td>0.458498</td>\n",
              "      <td>0.230201</td>\n",
              "      <td>-0.234040</td>\n",
              "      <td>0.323799</td>\n",
              "      <td>-0.577974</td>\n",
              "      <td>-0.231270</td>\n",
              "      <td>0.405233</td>\n",
              "      <td>-0.492053</td>\n",
              "      <td>-0.262013</td>\n",
              "      <td>-0.562029</td>\n",
              "      <td>-0.754784</td>\n",
              "      <td>0.114774</td>\n",
              "      <td>-0.303070</td>\n",
              "      <td>0.004179</td>\n",
              "      <td>...</td>\n",
              "      <td>0.921800</td>\n",
              "      <td>0.091345</td>\n",
              "      <td>0.728693</td>\n",
              "      <td>1.069490</td>\n",
              "      <td>-0.089532</td>\n",
              "      <td>-0.126689</td>\n",
              "      <td>-0.053130</td>\n",
              "      <td>0.416477</td>\n",
              "      <td>0.294667</td>\n",
              "      <td>0.006618</td>\n",
              "      <td>0.328412</td>\n",
              "      <td>-0.557811</td>\n",
              "      <td>0.253493</td>\n",
              "      <td>-0.354477</td>\n",
              "      <td>0.332900</td>\n",
              "      <td>0.875495</td>\n",
              "      <td>-1.043192</td>\n",
              "      <td>1.288430</td>\n",
              "      <td>-0.056559</td>\n",
              "      <td>0.187961</td>\n",
              "      <td>0.337483</td>\n",
              "      <td>-0.090544</td>\n",
              "      <td>0.276176</td>\n",
              "      <td>-0.393747</td>\n",
              "      <td>-0.897010</td>\n",
              "      <td>0.273594</td>\n",
              "      <td>0.059733</td>\n",
              "      <td>0.252738</td>\n",
              "      <td>0.207929</td>\n",
              "      <td>-0.025753</td>\n",
              "      <td>0.021567</td>\n",
              "      <td>1.168533</td>\n",
              "      <td>0.562797</td>\n",
              "      <td>-0.284247</td>\n",
              "      <td>-0.291426</td>\n",
              "      <td>0.656828</td>\n",
              "      <td>0.652902</td>\n",
              "      <td>-0.680609</td>\n",
              "      <td>0.406645</td>\n",
              "      <td>-0.072077</td>\n",
              "    </tr>\n",
              "    <tr>\n",
              "      <th>2</th>\n",
              "      <td>0.122995</td>\n",
              "      <td>-0.255338</td>\n",
              "      <td>-0.084610</td>\n",
              "      <td>-0.139912</td>\n",
              "      <td>0.065407</td>\n",
              "      <td>0.552847</td>\n",
              "      <td>-0.104534</td>\n",
              "      <td>0.109842</td>\n",
              "      <td>0.903610</td>\n",
              "      <td>0.451307</td>\n",
              "      <td>-0.275470</td>\n",
              "      <td>0.095294</td>\n",
              "      <td>0.099199</td>\n",
              "      <td>-0.228622</td>\n",
              "      <td>0.185442</td>\n",
              "      <td>0.079517</td>\n",
              "      <td>0.633629</td>\n",
              "      <td>-0.238946</td>\n",
              "      <td>0.044196</td>\n",
              "      <td>-0.719200</td>\n",
              "      <td>0.281010</td>\n",
              "      <td>-0.201918</td>\n",
              "      <td>-0.225704</td>\n",
              "      <td>-0.157153</td>\n",
              "      <td>-0.377018</td>\n",
              "      <td>-0.045188</td>\n",
              "      <td>0.433793</td>\n",
              "      <td>0.688715</td>\n",
              "      <td>-0.552029</td>\n",
              "      <td>0.377900</td>\n",
              "      <td>-0.080042</td>\n",
              "      <td>-0.302301</td>\n",
              "      <td>-0.597616</td>\n",
              "      <td>-0.443838</td>\n",
              "      <td>-0.022640</td>\n",
              "      <td>-0.568669</td>\n",
              "      <td>-0.807511</td>\n",
              "      <td>0.083843</td>\n",
              "      <td>0.715118</td>\n",
              "      <td>0.486972</td>\n",
              "      <td>...</td>\n",
              "      <td>0.996324</td>\n",
              "      <td>-0.098625</td>\n",
              "      <td>0.389538</td>\n",
              "      <td>1.594374</td>\n",
              "      <td>-0.013069</td>\n",
              "      <td>-0.453420</td>\n",
              "      <td>-0.605789</td>\n",
              "      <td>-0.173979</td>\n",
              "      <td>0.042370</td>\n",
              "      <td>-0.014586</td>\n",
              "      <td>0.302771</td>\n",
              "      <td>-0.323250</td>\n",
              "      <td>0.146018</td>\n",
              "      <td>-0.509150</td>\n",
              "      <td>0.194316</td>\n",
              "      <td>0.767718</td>\n",
              "      <td>-0.213173</td>\n",
              "      <td>0.564365</td>\n",
              "      <td>-0.042883</td>\n",
              "      <td>0.149758</td>\n",
              "      <td>0.152589</td>\n",
              "      <td>-0.061916</td>\n",
              "      <td>0.154927</td>\n",
              "      <td>-0.081459</td>\n",
              "      <td>-0.231791</td>\n",
              "      <td>-0.260478</td>\n",
              "      <td>0.171444</td>\n",
              "      <td>0.504945</td>\n",
              "      <td>0.628526</td>\n",
              "      <td>-0.431658</td>\n",
              "      <td>0.408605</td>\n",
              "      <td>1.460399</td>\n",
              "      <td>0.662861</td>\n",
              "      <td>-0.136868</td>\n",
              "      <td>-0.080981</td>\n",
              "      <td>0.412476</td>\n",
              "      <td>0.408365</td>\n",
              "      <td>-0.432835</td>\n",
              "      <td>0.264197</td>\n",
              "      <td>-0.065345</td>\n",
              "    </tr>\n",
              "    <tr>\n",
              "      <th>3</th>\n",
              "      <td>-0.233317</td>\n",
              "      <td>0.075169</td>\n",
              "      <td>0.101757</td>\n",
              "      <td>-0.255629</td>\n",
              "      <td>0.177177</td>\n",
              "      <td>0.213724</td>\n",
              "      <td>-0.049960</td>\n",
              "      <td>0.879802</td>\n",
              "      <td>0.228996</td>\n",
              "      <td>0.333588</td>\n",
              "      <td>-0.258793</td>\n",
              "      <td>0.213695</td>\n",
              "      <td>0.089740</td>\n",
              "      <td>-0.462861</td>\n",
              "      <td>0.459210</td>\n",
              "      <td>0.342702</td>\n",
              "      <td>0.284974</td>\n",
              "      <td>-0.314406</td>\n",
              "      <td>0.142398</td>\n",
              "      <td>-0.881451</td>\n",
              "      <td>0.011070</td>\n",
              "      <td>-0.360886</td>\n",
              "      <td>-0.327134</td>\n",
              "      <td>-0.118879</td>\n",
              "      <td>0.195584</td>\n",
              "      <td>-0.184107</td>\n",
              "      <td>0.189582</td>\n",
              "      <td>-0.031402</td>\n",
              "      <td>-0.119926</td>\n",
              "      <td>0.905290</td>\n",
              "      <td>-0.042242</td>\n",
              "      <td>-0.078217</td>\n",
              "      <td>0.774182</td>\n",
              "      <td>-0.607643</td>\n",
              "      <td>0.057612</td>\n",
              "      <td>-0.598457</td>\n",
              "      <td>-1.372679</td>\n",
              "      <td>0.186787</td>\n",
              "      <td>0.108967</td>\n",
              "      <td>0.402878</td>\n",
              "      <td>...</td>\n",
              "      <td>0.939276</td>\n",
              "      <td>0.299659</td>\n",
              "      <td>0.282591</td>\n",
              "      <td>1.413206</td>\n",
              "      <td>-0.172405</td>\n",
              "      <td>0.391430</td>\n",
              "      <td>-0.400962</td>\n",
              "      <td>-0.049452</td>\n",
              "      <td>-0.075253</td>\n",
              "      <td>-0.030729</td>\n",
              "      <td>0.538450</td>\n",
              "      <td>-0.235912</td>\n",
              "      <td>0.223105</td>\n",
              "      <td>-0.138607</td>\n",
              "      <td>-0.543708</td>\n",
              "      <td>0.693104</td>\n",
              "      <td>-0.676663</td>\n",
              "      <td>0.191056</td>\n",
              "      <td>0.044299</td>\n",
              "      <td>0.051567</td>\n",
              "      <td>0.243266</td>\n",
              "      <td>0.239512</td>\n",
              "      <td>0.250766</td>\n",
              "      <td>-0.325057</td>\n",
              "      <td>-0.579753</td>\n",
              "      <td>-0.275222</td>\n",
              "      <td>0.146736</td>\n",
              "      <td>0.051135</td>\n",
              "      <td>0.469655</td>\n",
              "      <td>-0.196534</td>\n",
              "      <td>-0.151259</td>\n",
              "      <td>1.477482</td>\n",
              "      <td>0.264394</td>\n",
              "      <td>0.076450</td>\n",
              "      <td>-0.087113</td>\n",
              "      <td>0.556019</td>\n",
              "      <td>0.541030</td>\n",
              "      <td>-0.189591</td>\n",
              "      <td>0.507491</td>\n",
              "      <td>0.203926</td>\n",
              "    </tr>\n",
              "    <tr>\n",
              "      <th>4</th>\n",
              "      <td>0.045292</td>\n",
              "      <td>-0.214803</td>\n",
              "      <td>0.358676</td>\n",
              "      <td>-0.601393</td>\n",
              "      <td>-0.048680</td>\n",
              "      <td>0.365268</td>\n",
              "      <td>-0.550482</td>\n",
              "      <td>0.514303</td>\n",
              "      <td>0.559915</td>\n",
              "      <td>0.367665</td>\n",
              "      <td>-0.120503</td>\n",
              "      <td>0.459812</td>\n",
              "      <td>0.799864</td>\n",
              "      <td>0.429512</td>\n",
              "      <td>0.348145</td>\n",
              "      <td>0.705791</td>\n",
              "      <td>-0.132481</td>\n",
              "      <td>-0.198132</td>\n",
              "      <td>0.894733</td>\n",
              "      <td>-0.931050</td>\n",
              "      <td>0.008356</td>\n",
              "      <td>-0.012287</td>\n",
              "      <td>0.185829</td>\n",
              "      <td>-0.012477</td>\n",
              "      <td>-0.029897</td>\n",
              "      <td>-0.106955</td>\n",
              "      <td>0.921338</td>\n",
              "      <td>0.438324</td>\n",
              "      <td>-0.385043</td>\n",
              "      <td>0.210029</td>\n",
              "      <td>-0.644655</td>\n",
              "      <td>-0.322156</td>\n",
              "      <td>0.171714</td>\n",
              "      <td>-0.011876</td>\n",
              "      <td>-0.427351</td>\n",
              "      <td>-0.764196</td>\n",
              "      <td>-0.182957</td>\n",
              "      <td>0.413742</td>\n",
              "      <td>-0.472179</td>\n",
              "      <td>0.365791</td>\n",
              "      <td>...</td>\n",
              "      <td>0.603303</td>\n",
              "      <td>-0.002740</td>\n",
              "      <td>-0.036127</td>\n",
              "      <td>1.148385</td>\n",
              "      <td>-0.468835</td>\n",
              "      <td>-0.008000</td>\n",
              "      <td>-0.349761</td>\n",
              "      <td>0.062258</td>\n",
              "      <td>0.036226</td>\n",
              "      <td>0.254457</td>\n",
              "      <td>0.521911</td>\n",
              "      <td>-0.143204</td>\n",
              "      <td>0.411426</td>\n",
              "      <td>-0.176269</td>\n",
              "      <td>0.035457</td>\n",
              "      <td>0.314054</td>\n",
              "      <td>-0.594687</td>\n",
              "      <td>0.450245</td>\n",
              "      <td>0.020033</td>\n",
              "      <td>-0.200571</td>\n",
              "      <td>0.566393</td>\n",
              "      <td>0.079581</td>\n",
              "      <td>0.120403</td>\n",
              "      <td>-0.056354</td>\n",
              "      <td>-0.183325</td>\n",
              "      <td>-0.331903</td>\n",
              "      <td>-0.132743</td>\n",
              "      <td>0.091287</td>\n",
              "      <td>0.731343</td>\n",
              "      <td>-0.135945</td>\n",
              "      <td>-0.014588</td>\n",
              "      <td>1.263425</td>\n",
              "      <td>0.616776</td>\n",
              "      <td>-0.136729</td>\n",
              "      <td>-0.131905</td>\n",
              "      <td>0.233556</td>\n",
              "      <td>0.458229</td>\n",
              "      <td>-0.104712</td>\n",
              "      <td>0.049443</td>\n",
              "      <td>0.220563</td>\n",
              "    </tr>\n",
              "  </tbody>\n",
              "</table>\n",
              "<p>5 rows × 1024 columns</p>\n",
              "</div>"
            ],
            "text/plain": [
              "       0         1         2     ...      1021      1022      1023\n",
              "0  0.380389 -0.176156 -0.314543  ...  0.821129  0.205928  0.648316\n",
              "1  0.080406 -0.408230  0.158734  ... -0.680609  0.406645 -0.072077\n",
              "2  0.122995 -0.255338 -0.084610  ... -0.432835  0.264197 -0.065345\n",
              "3 -0.233317  0.075169  0.101757  ... -0.189591  0.507491  0.203926\n",
              "4  0.045292 -0.214803  0.358676  ... -0.104712  0.049443  0.220563\n",
              "\n",
              "[5 rows x 1024 columns]"
            ]
          },
          "metadata": {
            "tags": []
          },
          "execution_count": 275
        }
      ]
    },
    {
      "cell_type": "code",
      "metadata": {
        "colab": {
          "base_uri": "https://localhost:8080/",
          "height": 517
        },
        "id": "5DQLijfPuKJe",
        "outputId": "a9a30b91-15e7-4ad5-cf5c-5db3eaa61743"
      },
      "source": [
        "elmo_bible_df_combined = pd.concat([elmo_bible_df, elmo_embedded_df], axis=1).dropna()\n",
        "elmo_bible_df_combined.head(2)"
      ],
      "execution_count": 276,
      "outputs": [
        {
          "output_type": "execute_result",
          "data": {
            "text/html": [
              "<div>\n",
              "<style scoped>\n",
              "    .dataframe tbody tr th:only-of-type {\n",
              "        vertical-align: middle;\n",
              "    }\n",
              "\n",
              "    .dataframe tbody tr th {\n",
              "        vertical-align: top;\n",
              "    }\n",
              "\n",
              "    .dataframe thead th {\n",
              "        text-align: right;\n",
              "    }\n",
              "</style>\n",
              "<table border=\"1\" class=\"dataframe\">\n",
              "  <thead>\n",
              "    <tr style=\"text-align: right;\">\n",
              "      <th></th>\n",
              "      <th>id</th>\n",
              "      <th>corpus</th>\n",
              "      <th>sentence</th>\n",
              "      <th>token</th>\n",
              "      <th>complexity</th>\n",
              "      <th>0</th>\n",
              "      <th>1</th>\n",
              "      <th>2</th>\n",
              "      <th>3</th>\n",
              "      <th>4</th>\n",
              "      <th>5</th>\n",
              "      <th>6</th>\n",
              "      <th>7</th>\n",
              "      <th>8</th>\n",
              "      <th>9</th>\n",
              "      <th>10</th>\n",
              "      <th>11</th>\n",
              "      <th>12</th>\n",
              "      <th>13</th>\n",
              "      <th>14</th>\n",
              "      <th>15</th>\n",
              "      <th>16</th>\n",
              "      <th>17</th>\n",
              "      <th>18</th>\n",
              "      <th>19</th>\n",
              "      <th>20</th>\n",
              "      <th>21</th>\n",
              "      <th>22</th>\n",
              "      <th>23</th>\n",
              "      <th>24</th>\n",
              "      <th>25</th>\n",
              "      <th>26</th>\n",
              "      <th>27</th>\n",
              "      <th>28</th>\n",
              "      <th>29</th>\n",
              "      <th>30</th>\n",
              "      <th>31</th>\n",
              "      <th>32</th>\n",
              "      <th>33</th>\n",
              "      <th>34</th>\n",
              "      <th>...</th>\n",
              "      <th>984</th>\n",
              "      <th>985</th>\n",
              "      <th>986</th>\n",
              "      <th>987</th>\n",
              "      <th>988</th>\n",
              "      <th>989</th>\n",
              "      <th>990</th>\n",
              "      <th>991</th>\n",
              "      <th>992</th>\n",
              "      <th>993</th>\n",
              "      <th>994</th>\n",
              "      <th>995</th>\n",
              "      <th>996</th>\n",
              "      <th>997</th>\n",
              "      <th>998</th>\n",
              "      <th>999</th>\n",
              "      <th>1000</th>\n",
              "      <th>1001</th>\n",
              "      <th>1002</th>\n",
              "      <th>1003</th>\n",
              "      <th>1004</th>\n",
              "      <th>1005</th>\n",
              "      <th>1006</th>\n",
              "      <th>1007</th>\n",
              "      <th>1008</th>\n",
              "      <th>1009</th>\n",
              "      <th>1010</th>\n",
              "      <th>1011</th>\n",
              "      <th>1012</th>\n",
              "      <th>1013</th>\n",
              "      <th>1014</th>\n",
              "      <th>1015</th>\n",
              "      <th>1016</th>\n",
              "      <th>1017</th>\n",
              "      <th>1018</th>\n",
              "      <th>1019</th>\n",
              "      <th>1020</th>\n",
              "      <th>1021</th>\n",
              "      <th>1022</th>\n",
              "      <th>1023</th>\n",
              "    </tr>\n",
              "  </thead>\n",
              "  <tbody>\n",
              "    <tr>\n",
              "      <th>0</th>\n",
              "      <td>3ZLW647WALVGE8EBR50EGUBPU4P32A</td>\n",
              "      <td>bible</td>\n",
              "      <td>Behold, there came up out of the river seven cattle, sleek and fat, and they fed in the marsh grass.</td>\n",
              "      <td>river</td>\n",
              "      <td>0.0</td>\n",
              "      <td>0.380389</td>\n",
              "      <td>-0.176156</td>\n",
              "      <td>-0.314543</td>\n",
              "      <td>-0.501822</td>\n",
              "      <td>-0.090818</td>\n",
              "      <td>0.105634</td>\n",
              "      <td>-0.251023</td>\n",
              "      <td>-0.066272</td>\n",
              "      <td>0.243032</td>\n",
              "      <td>-0.761172</td>\n",
              "      <td>-0.291393</td>\n",
              "      <td>0.064379</td>\n",
              "      <td>-0.453321</td>\n",
              "      <td>-0.423276</td>\n",
              "      <td>0.816208</td>\n",
              "      <td>-0.353879</td>\n",
              "      <td>0.408419</td>\n",
              "      <td>0.122126</td>\n",
              "      <td>0.496743</td>\n",
              "      <td>0.353603</td>\n",
              "      <td>-0.351386</td>\n",
              "      <td>-0.922783</td>\n",
              "      <td>-0.209045</td>\n",
              "      <td>-0.359489</td>\n",
              "      <td>0.711408</td>\n",
              "      <td>-0.171895</td>\n",
              "      <td>-0.333597</td>\n",
              "      <td>0.793782</td>\n",
              "      <td>-0.901847</td>\n",
              "      <td>0.509671</td>\n",
              "      <td>0.247244</td>\n",
              "      <td>0.280223</td>\n",
              "      <td>0.268059</td>\n",
              "      <td>-0.539888</td>\n",
              "      <td>-0.103087</td>\n",
              "      <td>...</td>\n",
              "      <td>0.257131</td>\n",
              "      <td>-1.014234</td>\n",
              "      <td>0.116351</td>\n",
              "      <td>0.884804</td>\n",
              "      <td>0.771221</td>\n",
              "      <td>-0.382885</td>\n",
              "      <td>-0.389934</td>\n",
              "      <td>-0.064094</td>\n",
              "      <td>0.188469</td>\n",
              "      <td>-0.252470</td>\n",
              "      <td>-0.016003</td>\n",
              "      <td>-0.283068</td>\n",
              "      <td>-0.100671</td>\n",
              "      <td>0.204860</td>\n",
              "      <td>0.546275</td>\n",
              "      <td>0.513434</td>\n",
              "      <td>0.094390</td>\n",
              "      <td>0.732664</td>\n",
              "      <td>-0.115683</td>\n",
              "      <td>0.189742</td>\n",
              "      <td>0.107118</td>\n",
              "      <td>0.150636</td>\n",
              "      <td>-0.038369</td>\n",
              "      <td>-0.243636</td>\n",
              "      <td>-0.724234</td>\n",
              "      <td>-0.076423</td>\n",
              "      <td>0.054118</td>\n",
              "      <td>0.113401</td>\n",
              "      <td>0.372316</td>\n",
              "      <td>0.303050</td>\n",
              "      <td>-0.009343</td>\n",
              "      <td>0.357153</td>\n",
              "      <td>0.287225</td>\n",
              "      <td>0.254209</td>\n",
              "      <td>-0.150872</td>\n",
              "      <td>-0.407083</td>\n",
              "      <td>-0.230057</td>\n",
              "      <td>0.821129</td>\n",
              "      <td>0.205928</td>\n",
              "      <td>0.648316</td>\n",
              "    </tr>\n",
              "    <tr>\n",
              "      <th>1</th>\n",
              "      <td>34R0BODSP1ZBN3DVY8J8XSIY551E5C</td>\n",
              "      <td>bible</td>\n",
              "      <td>I am a fellow bondservant with you and with your brothers, the prophets, and with those who keep the words of this book.</td>\n",
              "      <td>brothers</td>\n",
              "      <td>0.0</td>\n",
              "      <td>0.080406</td>\n",
              "      <td>-0.408230</td>\n",
              "      <td>0.158734</td>\n",
              "      <td>-0.079608</td>\n",
              "      <td>0.255208</td>\n",
              "      <td>-0.493177</td>\n",
              "      <td>0.061747</td>\n",
              "      <td>0.495774</td>\n",
              "      <td>0.457920</td>\n",
              "      <td>0.361132</td>\n",
              "      <td>-0.256218</td>\n",
              "      <td>0.261946</td>\n",
              "      <td>0.350431</td>\n",
              "      <td>0.180850</td>\n",
              "      <td>0.368660</td>\n",
              "      <td>0.222670</td>\n",
              "      <td>0.221042</td>\n",
              "      <td>0.007360</td>\n",
              "      <td>0.405470</td>\n",
              "      <td>-0.559290</td>\n",
              "      <td>-0.000919</td>\n",
              "      <td>-0.280063</td>\n",
              "      <td>-0.229275</td>\n",
              "      <td>0.055031</td>\n",
              "      <td>0.096481</td>\n",
              "      <td>-0.122666</td>\n",
              "      <td>0.458498</td>\n",
              "      <td>0.230201</td>\n",
              "      <td>-0.234040</td>\n",
              "      <td>0.323799</td>\n",
              "      <td>-0.577974</td>\n",
              "      <td>-0.231270</td>\n",
              "      <td>0.405233</td>\n",
              "      <td>-0.492053</td>\n",
              "      <td>-0.262013</td>\n",
              "      <td>...</td>\n",
              "      <td>0.921800</td>\n",
              "      <td>0.091345</td>\n",
              "      <td>0.728693</td>\n",
              "      <td>1.069490</td>\n",
              "      <td>-0.089532</td>\n",
              "      <td>-0.126689</td>\n",
              "      <td>-0.053130</td>\n",
              "      <td>0.416477</td>\n",
              "      <td>0.294667</td>\n",
              "      <td>0.006618</td>\n",
              "      <td>0.328412</td>\n",
              "      <td>-0.557811</td>\n",
              "      <td>0.253493</td>\n",
              "      <td>-0.354477</td>\n",
              "      <td>0.332900</td>\n",
              "      <td>0.875495</td>\n",
              "      <td>-1.043192</td>\n",
              "      <td>1.288430</td>\n",
              "      <td>-0.056559</td>\n",
              "      <td>0.187961</td>\n",
              "      <td>0.337483</td>\n",
              "      <td>-0.090544</td>\n",
              "      <td>0.276176</td>\n",
              "      <td>-0.393747</td>\n",
              "      <td>-0.897010</td>\n",
              "      <td>0.273594</td>\n",
              "      <td>0.059733</td>\n",
              "      <td>0.252738</td>\n",
              "      <td>0.207929</td>\n",
              "      <td>-0.025753</td>\n",
              "      <td>0.021567</td>\n",
              "      <td>1.168533</td>\n",
              "      <td>0.562797</td>\n",
              "      <td>-0.284247</td>\n",
              "      <td>-0.291426</td>\n",
              "      <td>0.656828</td>\n",
              "      <td>0.652902</td>\n",
              "      <td>-0.680609</td>\n",
              "      <td>0.406645</td>\n",
              "      <td>-0.072077</td>\n",
              "    </tr>\n",
              "  </tbody>\n",
              "</table>\n",
              "<p>2 rows × 1029 columns</p>\n",
              "</div>"
            ],
            "text/plain": [
              "                               id corpus  ...      1022      1023\n",
              "0  3ZLW647WALVGE8EBR50EGUBPU4P32A  bible  ...  0.205928  0.648316\n",
              "1  34R0BODSP1ZBN3DVY8J8XSIY551E5C  bible  ...  0.406645 -0.072077\n",
              "\n",
              "[2 rows x 1029 columns]"
            ]
          },
          "metadata": {
            "tags": []
          },
          "execution_count": 276
        }
      ]
    },
    {
      "cell_type": "code",
      "metadata": {
        "id": "AD8RNXQcubNY"
      },
      "source": [
        "X_elmo_train = elmo_bible_df_combined.drop(columns=['token', 'complexity', 'id', 'corpus', 'sentence'])\n",
        "Y_elmo_train = elmo_bible_df_combined['complexity']"
      ],
      "execution_count": 277,
      "outputs": []
    },
    {
      "cell_type": "code",
      "metadata": {
        "id": "8lW6JL5Juyeo"
      },
      "source": [
        "#train\n",
        "lr = LinearRegression().fit(X_elmo_train, Y_elmo_train)"
      ],
      "execution_count": 278,
      "outputs": []
    },
    {
      "cell_type": "code",
      "metadata": {
        "id": "Oipq5a1PuyhO"
      },
      "source": [
        "# predict\n",
        "Y_elmo_pred = lr.predict(X_elmo_train)"
      ],
      "execution_count": 279,
      "outputs": []
    },
    {
      "cell_type": "code",
      "metadata": {
        "colab": {
          "base_uri": "https://localhost:8080/"
        },
        "id": "WxVRQP9Zu0vI",
        "outputId": "07629d12-a741-4943-f3f2-6c5eda68b351"
      },
      "source": [
        "# train loss (average absolute loss)\n",
        "num = len(Y_elmo_pred)\n",
        "losses = []\n",
        "for i in range(num):\n",
        "  loss = abs(Y_elmo_pred[i] - Y_elmo_train[i])\n",
        "  losses.append(loss)\n",
        "abl = sum(losses) / num\n",
        "print(\"average training absolute loss is \" + str(abl))"
      ],
      "execution_count": 280,
      "outputs": [
        {
          "output_type": "stream",
          "text": [
            "average training absolute loss is 0.06452791414804292\n"
          ],
          "name": "stdout"
        }
      ]
    }
  ]
}